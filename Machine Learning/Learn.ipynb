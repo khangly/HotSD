{
 "cells": [
  {
   "cell_type": "code",
   "execution_count": 2,
   "metadata": {},
   "outputs": [],
   "source": [
    "import numpy as np\n",
    "import matplotlib.pyplot as plt"
   ]
  },
  {
   "cell_type": "code",
   "execution_count": 3,
   "metadata": {},
   "outputs": [],
   "source": [
    "import mysql.connector"
   ]
  },
  {
   "cell_type": "code",
   "execution_count": 4,
   "metadata": {},
   "outputs": [
    {
     "data": {
      "text/plain": [
       "<matplotlib.collections.PathCollection at 0x7f969601f2b0>"
      ]
     },
     "execution_count": 4,
     "metadata": {},
     "output_type": "execute_result"
    },
    {
     "data": {
      "image/png": "[encoded data removed]",
      "text/plain": [
       "<Figure size 1440x720 with 1 Axes>"
      ]
     },
     "metadata": {},
     "output_type": "display_data"
    }
   ],
   "source": [
    "plt.figure(figsize=(20,10))\n",
    "plt.scatter([1,2,6],[1,2,3])"
   ]
  },
  {
   "cell_type": "code",
   "execution_count": 5,
   "metadata": {},
   "outputs": [
    {
     "data": {
      "text/plain": [
       "<matplotlib.collections.PathCollection at 0x7f9695bc8ba8>"
      ]
     },
     "execution_count": 5,
     "metadata": {},
     "output_type": "execute_result"
    },
    {
     "data": {
      "image/png": "[encoded data removed]",
      "text/plain": [
       "<Figure size 432x288 with 1 Axes>"
      ]
     },
     "metadata": {},
     "output_type": "display_data"
    }
   ],
   "source": [
    "plt.scatter([1,2,6],[1,2,3])"
   ]
  },
  {
   "cell_type": "code",
   "execution_count": 6,
   "metadata": {},
   "outputs": [],
   "source": [
    "login = {'user': 'khangly', 'password': '@HotSD98', 'database': 'khangly', 'host': 'localhost'}\n",
    "db = mysql.connector.connect(**login)\n",
    "cursor = db.cursor()"
   ]
  },
  {
   "cell_type": "code",
   "execution_count": 7,
   "metadata": {},
   "outputs": [],
   "source": [
    "query = 'SELECT Time - Created, Views FROM Threads INNER JOIN ThreadRates ON Threads.ThreadID = ThreadRates.ThreadID'\n",
    "cursor.execute(query)\n",
    "data = cursor.fetchall()"
   ]
  },
  {
   "cell_type": "code",
   "execution_count": 8,
   "metadata": {},
   "outputs": [
    {
     "data": {
      "text/plain": [
       "[(9914, 320),\n",
       " (26355, 937),\n",
       " (26714, 943),\n",
       " (28094, 1196),\n",
       " (28633, 1294),\n",
       " (32294, 1508),\n",
       " (37034, 1812),\n",
       " (63014, 2419),\n",
       " (63615, 2520),\n",
       " (64035, 2694),\n",
       " (64634, 2811),\n",
       " (65114, 3043),\n",
       " (66074, 3440),\n",
       " (66914, 3609),\n",
       " (68594, 3996),\n",
       " (70335, 5111),\n",
       " (71415, 6030),\n",
       " (71595, 6030),\n",
       " (71714, 6030),\n",
       " (72194, 6491),\n",
       " (72194, 6491),\n",
       " (74054, 7598),\n",
       " (78558, 9288),\n",
       " (79036, 9466),\n",
       " (87014, 10667),\n",
       " (87014, 10667),\n",
       " (88094, 10767),\n",
       " (90134, 11084),\n",
       " (90255, 11084),\n",
       " (94334, 11900),\n",
       " (97033, 12686),\n",
       " (98714, 13102),\n",
       " (99314, 13281),\n",
       " (15017, 561),\n",
       " (29417, 731),\n",
       " (15018, 626),\n",
       " (16159, 626),\n",
       " (40818, 964),\n",
       " (4, 167),\n",
       " (12137, 389),\n",
       " (20897, 624),\n",
       " (21917, 686),\n",
       " (26538, 842),\n",
       " (27798, 993),\n",
       " (29178, 1175),\n",
       " (29597, 1206),\n",
       " (32660, 1399),\n",
       " (48258, 2009),\n",
       " (68239, 2433),\n",
       " (11237, 375),\n",
       " (16517, 486),\n",
       " (29596, 981),\n",
       " (109637, 1650),\n",
       " (116117, 1694),\n",
       " (393798, 1888),\n",
       " (508515, 1979),\n",
       " (62478, 943),\n",
       " (471617, 1318),\n",
       " (14416, 457),\n",
       " (30675, 728),\n",
       " (30857, 728),\n",
       " (9195, 342),\n",
       " (21015, 671),\n",
       " (4095, 349),\n",
       " (4335, 360),\n",
       " (22515, 800),\n",
       " (36794, 1067),\n",
       " (40696, 1135),\n",
       " (41177, 1144),\n",
       " (41595, 1204),\n",
       " (42255, 1291),\n",
       " (42697, 1342),\n",
       " (44835, 1458),\n",
       " (118937, 2481),\n",
       " (130695, 2599),\n",
       " (196275, 2847),\n",
       " (333795, 3273),\n",
       " (359475, 3306),\n",
       " (371235, 3348),\n",
       " (540194, 3748),\n",
       " (3134, 187),\n",
       " (14174, 489),\n",
       " (25215, 793),\n",
       " (43994, 1026),\n",
       " (147734, 1534),\n",
       " (5279, 262),\n",
       " (62879, 1284),\n",
       " (64319, 1330),\n",
       " (129719, 1771),\n",
       " (473459, 2293),\n",
       " (718, 38),\n",
       " (2338, 123),\n",
       " (8218, 349),\n",
       " (12538, 506),\n",
       " (15418, 648),\n",
       " (15837, 701),\n",
       " (16017, 984),\n",
       " (16618, 1342),\n",
       " (16738, 1463),\n",
       " (16798, 1463),\n",
       " (17879, 1463),\n",
       " (18358, 2024),\n",
       " (18418, 2024),\n",
       " (18598, 2098),\n",
       " (18778, 2098),\n",
       " (19379, 2284),\n",
       " (19678, 2387),\n",
       " (19978, 2470),\n",
       " (20518, 2614),\n",
       " (20578, 2614),\n",
       " (20698, 2698),\n",
       " (20998, 2698),\n",
       " (22257, 3025),\n",
       " (22498, 3220),\n",
       " (22558, 3220),\n",
       " (23038, 3636),\n",
       " (24897, 5731),\n",
       " (25198, 5961),\n",
       " (25857, 6346),\n",
       " (26579, 6709),\n",
       " (28079, 7625),\n",
       " (28498, 8026),\n",
       " (29338, 8491),\n",
       " (29517, 8491),\n",
       " (30837, 9169),\n",
       " (31858, 9720),\n",
       " (32098, 9820),\n",
       " (37558, 11914),\n",
       " (43558, 13981),\n",
       " (44037, 14169),\n",
       " (47458, 15061),\n",
       " (48657, 15471),\n",
       " (49979, 15825),\n",
       " (52438, 16446),\n",
       " (52798, 16680),\n",
       " (56641, 18339),\n",
       " (58680, 19020),\n",
       " (62098, 20124),\n",
       " (62698, 20292),\n",
       " (62999, 20377),\n",
       " (79798, 22368),\n",
       " (421, 24),\n",
       " (1021, 67),\n",
       " (1440, 125),\n",
       " (1440, 125),\n",
       " (1561, 125),\n",
       " (1980, 182),\n",
       " (6000, 837),\n",
       " (6600, 920),\n",
       " (7083, 949),\n",
       " (7860, 1075),\n",
       " (8580, 1192),\n",
       " (13079, 1558),\n",
       " (17339, 1778),\n",
       " (18299, 1826),\n",
       " (19861, 1901),\n",
       " (20760, 1940),\n",
       " (26820, 2158),\n",
       " (43440, 2660),\n",
       " (95461, 3583),\n",
       " (117300, 3838),\n",
       " (148802, 3982),\n",
       " (10079, 306),\n",
       " (11879, 343),\n",
       " (13678, 375),\n",
       " (238559, 1059),\n",
       " (479, 75),\n",
       " (479, 75),\n",
       " (720, 75),\n",
       " (1200, 152),\n",
       " (1260, 152),\n",
       " (2939, 724),\n",
       " (3839, 1114),\n",
       " (3899, 1114),\n",
       " (4499, 1432),\n",
       " (5099, 1691),\n",
       " (5579, 1853),\n",
       " (6599, 2566),\n",
       " (7320, 2832),\n",
       " (7560, 3030),\n",
       " (8639, 3657),\n",
       " (9899, 4395),\n",
       " (10139, 4583),\n",
       " (11100, 5491),\n",
       " (12418, 6990),\n",
       " (12482, 6990),\n",
       " (12898, 7418),\n",
       " (13978, 8566),\n",
       " (14099, 8566),\n",
       " (16079, 10346),\n",
       " (16679, 10838),\n",
       " (17218, 11081),\n",
       " (18360, 12034),\n",
       " (18659, 12270),\n",
       " (19140, 12719),\n",
       " (23999, 15310),\n",
       " (28739, 17196),\n",
       " (30839, 17867),\n",
       " (35879, 19819),\n",
       " (35939, 19946),\n",
       " (36299, 20095),\n",
       " (37139, 20428),\n",
       " (41938, 21724),\n",
       " (51720, 24604),\n",
       " (59220, 26466),\n",
       " (61140, 26838),\n",
       " (62040, 26991),\n",
       " (66120, 27678),\n",
       " (68761, 27965),\n",
       " (103318, 30295),\n",
       " (111419, 30857),\n",
       " (129839, 32028),\n",
       " (134579, 32211),\n",
       " (147301, 32768),\n",
       " (158161, 33114),\n",
       " (177960, 33392),\n",
       " (182099, 33468),\n",
       " (296039, 35482),\n",
       " (322020, 35865),\n",
       " (411419, 36642),\n",
       " (300, 6),\n",
       " (1380, 67),\n",
       " (4380, 172),\n",
       " (4380, 172),\n",
       " (8520, 273),\n",
       " (11162, 325),\n",
       " (17280, 403),\n",
       " (19201, 421),\n",
       " (23820, 476),\n",
       " (29820, 554),\n",
       " (32222, 571),\n",
       " (61021, 808),\n",
       " (62400, 808),\n",
       " (3960, 146),\n",
       " (8400, 257),\n",
       " (23941, 496),\n",
       " (25380, 496),\n",
       " (29580, 578),\n",
       " (39659, 743),\n",
       " (40741, 893),\n",
       " (42360, 1151),\n",
       " (42720, 1242),\n",
       " (57720, 2351),\n",
       " (64562, 2807),\n",
       " (75960, 3292),\n",
       " (138781, 4167),\n",
       " (217320, 4596),\n",
       " (720, 24),\n",
       " (7981, 264),\n",
       " (660, 61),\n",
       " (2640, 325),\n",
       " (3000, 381),\n",
       " (4681, 516),\n",
       " (7140, 808),\n",
       " (11520, 1271),\n",
       " (23760, 1827),\n",
       " (28440, 2090),\n",
       " (28980, 2249),\n",
       " (29639, 2591),\n",
       " (31321, 2906),\n",
       " (33240, 3224),\n",
       " (33839, 3318),\n",
       " (47521, 4080),\n",
       " (52922, 4449),\n",
       " (62941, 4815),\n",
       " (65520, 4952),\n",
       " (65760, 4962),\n",
       " (76140, 5435),\n",
       " (100921, 5837),\n",
       " (102000, 6237),\n",
       " (102000, 6237),\n",
       " (104521, 7090),\n",
       " (105721, 7531),\n",
       " (106680, 7835),\n",
       " (106980, 7922),\n",
       " (107760, 8073),\n",
       " (108480, 8235),\n",
       " (108480, 8235),\n",
       " (108960, 8287),\n",
       " (110760, 8616),\n",
       " (117544, 9414),\n",
       " (118500, 9467),\n",
       " (120180, 9564),\n",
       " (122460, 9760),\n",
       " (125640, 10009),\n",
       " (127440, 10137),\n",
       " (131760, 10366),\n",
       " (139681, 10849),\n",
       " (142861, 11036),\n",
       " (153121, 11438),\n",
       " (167100, 11651),\n",
       " (179340, 11878),\n",
       " (208921, 12532),\n",
       " (179, 23),\n",
       " (359, 71),\n",
       " (419, 71),\n",
       " (959, 134),\n",
       " (5639, 500),\n",
       " (11699, 667),\n",
       " (0, 0),\n",
       " (6481, 327),\n",
       " (11220, 601),\n",
       " (13560, 719),\n",
       " (17400, 906),\n",
       " (21420, 1102),\n",
       " (23160, 1222),\n",
       " (23400, 1242),\n",
       " (31381, 1599),\n",
       " (34560, 1705),\n",
       " (34860, 1733),\n",
       " (35160, 1848),\n",
       " (35459, 1978),\n",
       " (35939, 2072),\n",
       " (36120, 2168),\n",
       " (37740, 2681),\n",
       " (38159, 2757),\n",
       " (40140, 3066),\n",
       " (42059, 3467),\n",
       " (1259, 111),\n",
       " (2039, 157),\n",
       " (476, 27),\n",
       " (1497, 74),\n",
       " (1797, 99),\n",
       " (9476, 343),\n",
       " (9596, 343),\n",
       " (11277, 856),\n",
       " (13015, 1179),\n",
       " (13316, 1212),\n",
       " (13436, 1212),\n",
       " (14335, 1338),\n",
       " (16376, 1559),\n",
       " (18955, 1794),\n",
       " (21660, 2033),\n",
       " (28015, 2597),\n",
       " (28315, 2625),\n",
       " (29816, 2719),\n",
       " (43675, 3458),\n",
       " (44936, 3503),\n",
       " (50577, 4687),\n",
       " (51416, 5694),\n",
       " (51537, 5694),\n",
       " (53997, 8054),\n",
       " (55137, 8831),\n",
       " (56097, 9341),\n",
       " (57236, 9906),\n",
       " (57598, 10019),\n",
       " (57777, 10137),\n",
       " (60297, 11010),\n",
       " (66357, 12501),\n",
       " (68036, 12761),\n",
       " (70316, 13071),\n",
       " (71576, 13194),\n",
       " (74516, 13476),\n",
       " (75776, 13616),\n",
       " (77815, 13827),\n",
       " (78656, 13873),\n",
       " (80997, 14162),\n",
       " (82676, 14458),\n",
       " (95637, 16962),\n",
       " (103136, 18247),\n",
       " (106076, 18689),\n",
       " (118976, 20062),\n",
       " (120476, 20252),\n",
       " (127797, 20836),\n",
       " (187616, 23148),\n",
       " (233217, 24426),\n",
       " (958, 90),\n",
       " (1799, 178),\n",
       " (2218, 239),\n",
       " (2759, 276),\n",
       " (3418, 926),\n",
       " (3718, 1274),\n",
       " (3901, 1274),\n",
       " (4141, 1550),\n",
       " (4799, 2274),\n",
       " (4921, 2480),\n",
       " (5100, 2480),\n",
       " (5218, 2480),\n",
       " (5399, 2737),\n",
       " (6119, 3457),\n",
       " (6299, 3457),\n",
       " (6599, 3770),\n",
       " (6839, 4017),\n",
       " (6900, 4017),\n",
       " (7318, 4445),\n",
       " (7499, 4445),\n",
       " (7798, 4598),\n",
       " (8820, 5331),\n",
       " (8938, 5511),\n",
       " (10138, 6281),\n",
       " (10138, 6281),\n",
       " (10318, 6503),\n",
       " (10378, 6503),\n",
       " (10681, 7446),\n",
       " (10858, 7446),\n",
       " (10918, 8427),\n",
       " (10979, 8427),\n",
       " (11038, 8427),\n",
       " (11580, 10051),\n",
       " (11878, 11234),\n",
       " (12299, 11860),\n",
       " (12599, 12705),\n",
       " (12599, 12705),\n",
       " (13438, 14827),\n",
       " (13498, 14827),\n",
       " (13618, 15576),\n",
       " (13677, 15576),\n",
       " (13677, 15576),\n",
       " (13919, 16133),\n",
       " (14098, 16133),\n",
       " (14338, 16747),\n",
       " (14877, 17694),\n",
       " (15178, 18239),\n",
       " (15178, 18239),\n",
       " (15299, 18239),\n",
       " (15478, 19009),\n",
       " (15659, 19009),\n",
       " (15718, 19423),\n",
       " (16018, 19908),\n",
       " (16138, 19908),\n",
       " (16259, 19908),\n",
       " (16318, 20382),\n",
       " (16918, 21268),\n",
       " (17458, 21873),\n",
       " (17938, 22835),\n",
       " (18238, 23259),\n",
       " (18599, 23570),\n",
       " (19257, 24535),\n",
       " (19557, 24830),\n",
       " (19618, 25211),\n",
       " (19678, 25211),\n",
       " (19918, 25211),\n",
       " (24538, 30686),\n",
       " (24538, 30686),\n",
       " (25558, 31636),\n",
       " (25977, 32151),\n",
       " (26099, 32151),\n",
       " (26099, 32151),\n",
       " (26698, 32685),\n",
       " (26878, 32989),\n",
       " (26938, 32989),\n",
       " (28498, 34266),\n",
       " (28678, 34543),\n",
       " (29937, 35578),\n",
       " (30478, 36021),\n",
       " (31558, 36655),\n",
       " (31738, 36891),\n",
       " (31858, 36891),\n",
       " (32338, 37308),\n",
       " (32518, 37541),\n",
       " (35157, 39140),\n",
       " (35998, 39715),\n",
       " (36778, 40230),\n",
       " (36838, 40230),\n",
       " (37501, 40665),\n",
       " (38038, 41224),\n",
       " (38999, 41940),\n",
       " (39601, 41940),\n",
       " (40798, 43268),\n",
       " (41038, 43431),\n",
       " (41399, 43635),\n",
       " (43138, 44960),\n",
       " (43257, 44960),\n",
       " (43738, 45423),\n",
       " (45838, 47043),\n",
       " (46018, 47043),\n",
       " (46200, 47284),\n",
       " (48658, 49132),\n",
       " (49378, 49753),\n",
       " (50100, 50272),\n",
       " (50158, 50272),\n",
       " (50279, 50499),\n",
       " (51960, 51623),\n",
       " (52500, 52097),\n",
       " (54900, 53638),\n",
       " (55381, 54033),\n",
       " (55858, 54202),\n",
       " (56158, 54496),\n",
       " (56158, 54496),\n",
       " (56639, 54664),\n",
       " (58860, 55703),\n",
       " (60718, 56488),\n",
       " (63838, 57412),\n",
       " (65638, 57911),\n",
       " (67678, 58289),\n",
       " (68218, 58392),\n",
       " (69601, 58580),\n",
       " (360, 50),\n",
       " (1500, 151),\n",
       " (3180, 333),\n",
       " (5160, 456),\n",
       " (5341, 456),\n",
       " (9599, 858),\n",
       " (10440, 1073),\n",
       " (11340, 1251),\n",
       " (357, 18),\n",
       " (417, 18),\n",
       " (838, 27),\n",
       " (3357, 144),\n",
       " (3838, 158),\n",
       " (4017, 194),\n",
       " (4677, 410),\n",
       " (5277, 410),\n",
       " (12057, 740),\n",
       " (13557, 785),\n",
       " (14997, 785),\n",
       " (22677, 1007),\n",
       " (59817, 1614),\n",
       " (62277, 1822),\n",
       " (69897, 2307),\n",
       " (79077, 2706),\n",
       " (81717, 2871),\n",
       " (86038, 3182),\n",
       " (87297, 3278),\n",
       " (88738, 3372),\n",
       " (91501, 3562),\n",
       " (97319, 3889),\n",
       " (98277, 3934),\n",
       " (100257, 4026),\n",
       " (103677, 4143),\n",
       " (104817, 4185),\n",
       " (111897, 4372),\n",
       " (115438, 4464),\n",
       " (122817, 4581),\n",
       " (123838, 4590),\n",
       " (129777, 4660),\n",
       " (836, 28),\n",
       " (2097, 78),\n",
       " (4316, 175),\n",
       " (462361, 1083),\n",
       " (1620, 260),\n",
       " (3060, 424),\n",
       " (3480, 451),\n",
       " (4799, 592),\n",
       " (5820, 651),\n",
       " (6660, 717),\n",
       " (6779, 717),\n",
       " (8400, 818),\n",
       " (8760, 870),\n",
       " (11100, 949),\n",
       " (12360, 985),\n",
       " (12601, 993),\n",
       " (14459, 1100),\n",
       " (7737, 319),\n",
       " (17276, 478),\n",
       " (26397, 620),\n",
       " (34616, 730),\n",
       " (207597, 1486),\n",
       " (284218, 1580),\n",
       " (58, 6),\n",
       " (240, 6),\n",
       " (1200, 83),\n",
       " (7259, 323),\n",
       " (7978, 339),\n",
       " (152100, 1425),\n",
       " (178859, 1453),\n",
       " (0, 0),\n",
       " (5999, 499),\n",
       " (6057, 499),\n",
       " (28738, 922),\n",
       " (5039, 180),\n",
       " (103321, 1073),\n",
       " (2458, 292),\n",
       " (7019, 666),\n",
       " (125099, 1852),\n",
       " (134100, 1877),\n",
       " (0, 0),\n",
       " (480, 0),\n",
       " (1019, 60),\n",
       " (1139, 60),\n",
       " (2819, 137),\n",
       " (6659, 227),\n",
       " (9779, 265),\n",
       " (16079, 347),\n",
       " (19739, 398),\n",
       " (2639, 203),\n",
       " (118, 11),\n",
       " (300, 11),\n",
       " (418, 11),\n",
       " (1858, 84),\n",
       " (213778, 1205),\n",
       " (0, 0),\n",
       " (481, 37),\n",
       " (194460, 1270),\n",
       " (600, 64),\n",
       " (1800, 177),\n",
       " (5519, 412),\n",
       " (6000, 499),\n",
       " (6960, 723),\n",
       " (9180, 1275),\n",
       " (64740, 2597),\n",
       " (72061, 3559),\n",
       " (73260, 3766),\n",
       " (75000, 4187),\n",
       " (75600, 4377),\n",
       " (75721, 4377),\n",
       " (77280, 4928),\n",
       " (79980, 5894),\n",
       " (81420, 6420),\n",
       " (81961, 6521),\n",
       " (82140, 6639),\n",
       " (82201, 6639),\n",
       " (83162, 6889),\n",
       " (83761, 7040),\n",
       " (83820, 7040),\n",
       " (84180, 7244),\n",
       " (84780, 7440),\n",
       " (87003, 8094),\n",
       " (88380, 10672),\n",
       " (88561, 11287),\n",
       " (90540, 14783),\n",
       " (90780, 15200),\n",
       " (91020, 15200),\n",
       " (91440, 15989),\n",
       " (92940, 17678),\n",
       " (93420, 17968),\n",
       " (94980, 19688),\n",
       " (95400, 20191),\n",
       " (98881, 23110),\n",
       " (99240, 23414),\n",
       " (99420, 23598),\n",
       " (102120, 25628),\n",
       " (103440, 26494),\n",
       " (103920, 26752),\n",
       " (104161, 26907),\n",
       " (104280, 27066),\n",
       " (104580, 27245),\n",
       " (105480, 27538),\n",
       " (105840, 27832),\n",
       " (105900, 27832),\n",
       " (108179, 28832),\n",
       " (110761, 29680),\n",
       " (115561, 31022),\n",
       " (116940, 31361),\n",
       " (119941, 32092),\n",
       " (123961, 32988),\n",
       " (125401, 33375),\n",
       " (128820, 34056),\n",
       " (131221, 34583),\n",
       " (136262, 35559),\n",
       " (138000, 35799),\n",
       " (141780, 36252),\n",
       " (141780, 36252),\n",
       " (141900, 36252),\n",
       " (152100, 36846),\n",
       " (170280, 38105),\n",
       " (173280, 38487),\n",
       " (186245, 39422),\n",
       " (204420, 40304),\n",
       " (220321, 40981),\n",
       " (282420, 42315),\n",
       " (303180, 42652),\n",
       " (304320, 42673),\n",
       " (313920, 42889),\n",
       " (540119, 44692),\n",
       " (663, 56),\n",
       " (1562, 145),\n",
       " (2280, 201),\n",
       " (4200, 335),\n",
       " (4441, 335),\n",
       " (10380, 933),\n",
       " (10680, 968),\n",
       " (12720, 1069),\n",
       " (12779, 1069),\n",
       " (14520, 1889),\n",
       " (15780, 2359),\n",
       " (16500, 2590),\n",
       " (17280, 2773),\n",
       " (17641, 2848),\n",
       " (18240, 2958),\n",
       " (24960, 4388),\n",
       " (25020, 4440),\n",
       " (29459, 5158),\n",
       " (30359, 5252),\n",
       " (36841, 5819),\n",
       " (48001, 6767),\n",
       " (80341, 8199),\n",
       " (82620, 8312),\n",
       " (84780, 8408),\n",
       " (170280, 10346),\n",
       " (391321, 12023),\n",
       " (0, 0),\n",
       " (1199, 135),\n",
       " (3599, 297),\n",
       " (4379, 297),\n",
       " (6839, 405),\n",
       " (10259, 462),\n",
       " (19979, 611),\n",
       " (21479, 633),\n",
       " (21721, 639),\n",
       " (22739, 651),\n",
       " (23939, 668),\n",
       " (45900, 873),\n",
       " (120, 0),\n",
       " (2580, 160),\n",
       " (66661, 1169),\n",
       " (113520, 1391),\n",
       " (122821, 1407),\n",
       " (61, 0),\n",
       " (361, 27),\n",
       " (661, 54),\n",
       " (1081, 80),\n",
       " (4261, 171),\n",
       " (5821, 200),\n",
       " (13561, 341),\n",
       " (13801, 346),\n",
       " (15420, 502),\n",
       " (16682, 602),\n",
       " (16740, 792),\n",
       " (17101, 979),\n",
       " (17882, 1213),\n",
       " (18061, 1302),\n",
       " (19082, 1564),\n",
       " (19082, 1564),\n",
       " (19141, 1628),\n",
       " (19440, 1628),\n",
       " (19801, 1822),\n",
       " (20161, 1889),\n",
       " (20821, 2023),\n",
       " (23341, 2380),\n",
       " (25982, 2686),\n",
       " (28200, 2894),\n",
       " (29640, 3028),\n",
       " (31501, 3212),\n",
       " (32582, 3280),\n",
       " (36962, 3504),\n",
       " (45422, 3900),\n",
       " (52862, 4149),\n",
       " (57901, 4285),\n",
       " (60186, 4327),\n",
       " (80101, 4711),\n",
       " (100261, 5116),\n",
       " (124561, 5365),\n",
       " (126721, 5394),\n",
       " (131101, 5462),\n",
       " (137042, 5524),\n",
       " (138421, 5537),\n",
       " (182821, 5778),\n",
       " (185341, 5795),\n",
       " (202742, 5886),\n",
       " (205021, 5894),\n",
       " (213364, 5946),\n",
       " (284582, 6267),\n",
       " (308762, 6345),\n",
       " (180, 0),\n",
       " (242, 18),\n",
       " (3300, 135),\n",
       " (8941, 225),\n",
       " (9900, 254),\n",
       " (65640, 791),\n",
       " (118740, 967),\n",
       " (0, 0),\n",
       " (2218, 171),\n",
       " (2578, 208),\n",
       " (2997, 225),\n",
       " (3418, 336),\n",
       " (3658, 452),\n",
       " (4378, 593),\n",
       " (4438, 693),\n",
       " (4438, 693),\n",
       " (4678, 693),\n",
       " (4738, 693),\n",
       " (4738, 693),\n",
       " (5099, 938),\n",
       " (5099, 938),\n",
       " (5278, 938),\n",
       " (5397, 1128),\n",
       " (5578, 1128),\n",
       " (5638, 1128),\n",
       " (6238, 1602),\n",
       " (6358, 1602),\n",
       " (6479, 1602),\n",
       " (6598, 1602),\n",
       " (7078, 1909),\n",
       " (7138, 1909),\n",
       " (7198, 2040),\n",
       " (7557, 2146),\n",
       " (7621, 2146),\n",
       " (7679, 2146),\n",
       " (8218, 2354),\n",
       " (8278, 2354),\n",
       " (8638, 2480),\n",
       " (9361, 2747),\n",
       " (10317, 2983),\n",
       " (10919, 3092),\n",
       " (11398, 3208),\n",
       " (12838, 3438),\n",
       " (13018, 3491),\n",
       " (13018, 3491),\n",
       " (13918, 3642),\n",
       " (14579, 3720),\n",
       " (14639, 3720),\n",
       " (14938, 4024),\n",
       " (14998, 4024),\n",
       " (15418, 4747),\n",
       " (15657, 5421),\n",
       " (15779, 5421),\n",
       " (15957, 5921),\n",
       " (16498, 6826),\n",
       " (16738, 7146),\n",
       " (16798, 7146),\n",
       " (17397, 7481),\n",
       " (17458, 7949),\n",
       " (17639, 7949),\n",
       " (17818, 8156),\n",
       " (17878, 8156),\n",
       " (17937, 8156),\n",
       " (18598, 8880),\n",
       " (18718, 8880),\n",
       " (19258, 9496),\n",
       " (19558, 9805),\n",
       " (19618, 9805),\n",
       " (19918, 10126),\n",
       " (19978, 10126),\n",
       " (20339, 10698),\n",
       " (21238, 11347),\n",
       " (21718, 11793),\n",
       " (22081, 11997),\n",
       " (24179, 13283),\n",
       " (24237, 13455),\n",
       " (24539, 13455),\n",
       " (25618, 14076),\n",
       " (25858, 14178),\n",
       " (26098, 14310),\n",
       " (26279, 14310),\n",
       " (26279, 14310),\n",
       " (26758, 14617),\n",
       " (26879, 14617),\n",
       " (27538, 14908),\n",
       " (27838, 15183),\n",
       " (28318, 15392),\n",
       " (28379, 15392),\n",
       " (28681, 15510),\n",
       " (29637, 16031),\n",
       " (29819, 16031),\n",
       " (29819, 16031),\n",
       " (30179, 16174),\n",
       " (30598, 16435),\n",
       " (32337, 17067),\n",
       " (32579, 17196),\n",
       " (32758, 17310),\n",
       " (33178, 17387),\n",
       " (33597, 17659),\n",
       " (33658, 17659),\n",
       " (34079, 17777),\n",
       " (34918, 18136),\n",
       " (34982, 18136),\n",
       " (36659, 18794),\n",
       " (36842, 18891),\n",
       " (37138, 18891),\n",
       " (39838, 19869),\n",
       " (41159, 20335),\n",
       " (42180, 20617),\n",
       " (44519, 21231),\n",
       " (46498, 21842),\n",
       " (46498, 21842),\n",
       " (50458, 22622),\n",
       " (52379, 22897),\n",
       " (52679, 22936),\n",
       " (55079, 23268),\n",
       " (59279, 23717),\n",
       " (63779, 24024),\n",
       " (68279, 24243),\n",
       " (71698, 24437),\n",
       " (73138, 24504),\n",
       " (75118, 24697),\n",
       " (81838, 25345),\n",
       " (81898, 25345),\n",
       " (83998, 25512),\n",
       " (84539, 25649),\n",
       " (85558, 25774),\n",
       " (90779, 26238),\n",
       " (91498, 26324),\n",
       " (92398, 26412),\n",
       " (93238, 26482),\n",
       " (104278, 27259),\n",
       " (1020, 91),\n",
       " (1260, 121),\n",
       " (2040, 202),\n",
       " (2939, 249),\n",
       " (4380, 331),\n",
       " (8100, 421),\n",
       " (10980, 495),\n",
       " (12780, 559),\n",
       " (12900, 568),\n",
       " (13140, 577),\n",
       " (13440, 585),\n",
       " (13621, 585),\n",
       " (15660, 635),\n",
       " (18900, 714),\n",
       " (30900, 894),\n",
       " (33840, 981),\n",
       " (42901, 1224),\n",
       " (45601, 1280),\n",
       " (87361, 1747),\n",
       " (719, 43),\n",
       " (840, 43),\n",
       " (1380, 43),\n",
       " (5701, 222),\n",
       " (6960, 222),\n",
       " (240, 16),\n",
       " (480, 64),\n",
       " (600, 64),\n",
       " (780, 135),\n",
       " (1020, 135),\n",
       " (1320, 252),\n",
       " (1559, 373),\n",
       " (2040, 792),\n",
       " (2160, 983),\n",
       " (2279, 983),\n",
       " (2940, 1433),\n",
       " (3179, 1563),\n",
       " (3240, 1563),\n",
       " (3840, 1899),\n",
       " (4380, 2224),\n",
       " (5162, 2599),\n",
       " (5460, 2764),\n",
       " (5879, 3038),\n",
       " (5940, 3038),\n",
       " (6120, 3164),\n",
       " (6602, 3358),\n",
       " (7020, 3575),\n",
       " (7679, 3790),\n",
       " (59, 14),\n",
       " (540, 89),\n",
       " (600, 89),\n",
       " (780, 152),\n",
       " (959, 152),\n",
       " (1080, 216),\n",
       " (1681, 438),\n",
       " (1681, 438),\n",
       " (1740, 438),\n",
       " (1979, 540),\n",
       " (1979, 540),\n",
       " (2160, 878),\n",
       " (2220, 878),\n",
       " (2401, 878),\n",
       " (2459, 878),\n",
       " (2580, 1381),\n",
       " (2640, 1381),\n",
       " (2640, 1381),\n",
       " (3059, 1730),\n",
       " (3059, 1730),\n",
       " (3359, 2145),\n",
       " (3419, 2145),\n",
       " (3540, 2479),\n",
       " (3660, 2940),\n",
       " (3660, 2940),\n",
       " (3660, 2940),\n",
       " (3720, 2940),\n",
       " (3840, 2940),\n",
       " (3960, 4136),\n",
       " (3960, 4136),\n",
       " (4020, 4136),\n",
       " (4140, 4136),\n",
       " (4140, 4136),\n",
       " (4260, 4136),\n",
       " (4320, 5555),\n",
       " (4440, 5555),\n",
       " (4501, 5555),\n",
       " (5100, 7553),\n",
       " (9599, 283),\n",
       " (1440, 73),\n",
       " (1620, 92),\n",
       " (2579, 92),\n",
       " (1200, 84),\n",
       " (1320, 84),\n",
       " (1619, 112),\n",
       " (1981, 122),\n",
       " (2220, 188),\n",
       " (2639, 225),\n",
       " (3060, 291),\n",
       " (1200, 85),\n",
       " (1200, 85),\n",
       " (1741, 85),\n",
       " (1920, 112),\n",
       " (3180, 126),\n",
       " (13019, 285),\n",
       " (18120, 328),\n",
       " (44760, 473),\n",
       " (45360, 479),\n",
       " (46681, 492),\n",
       " (47461, 523),\n",
       " (47521, 523),\n",
       " (48480, 544),\n",
       " (48480, 544),\n",
       " (48841, 553),\n",
       " (49142, 562),\n",
       " (50341, 802),\n",
       " (51000, 1015),\n",
       " (51601, 1327),\n",
       " (52020, 1420),\n",
       " (52320, 1542),\n",
       " (55441, 2051),\n",
       " (56760, 2246),\n",
       " (59283, 2480),\n",
       " (61262, 2611),\n",
       " (69544, 3104),\n",
       " (72541, 3306),\n",
       " (72600, 3306),\n",
       " ...]"
      ]
     },
     "execution_count": 8,
     "metadata": {},
     "output_type": "execute_result"
    }
   ],
   "source": [
    "data"
   ]
  },
  {
   "cell_type": "code",
   "execution_count": 9,
   "metadata": {},
   "outputs": [],
   "source": [
    "query = 'SELECT Time - Created, Views FROM Threads INNER JOIN Posts ON Threads.ThreadID = Posts.ThreadID'\n",
    "cursor.execute(query)\n",
    "data.extend(cursor.fetchall())"
   ]
  },
  {
   "cell_type": "code",
   "execution_count": 10,
   "metadata": {},
   "outputs": [
    {
     "data": {
      "text/plain": [
       "<matplotlib.collections.PathCollection at 0x7f9694f7a9b0>"
      ]
     },
     "execution_count": 10,
     "metadata": {},
     "output_type": "execute_result"
    },
    {
     "data": {
      "image/png": "[encoded data removed]",
      "text/plain": [
       "<Figure size 1440x720 with 1 Axes>"
      ]
     },
     "metadata": {},
     "output_type": "display_data"
    }
   ],
   "source": [
    "plt.figure(figsize=(20,10))\n",
    "plt.scatter(*zip(*data))"
   ]
  },
  {
   "cell_type": "code",
   "execution_count": 11,
   "metadata": {
    "scrolled": false
   },
   "outputs": [
    {
     "data": {
      "text/plain": [
       "<matplotlib.collections.PathCollection at 0x7f9695f151d0>"
      ]
     },
     "execution_count": 11,
     "metadata": {},
     "output_type": "execute_result"
    },
    {
     "data": {
      "image/png": "[encoded data removed]",
      "text/plain": [
       "<Figure size 1440x720 with 1 Axes>"
      ]
     },
     "metadata": {},
     "output_type": "display_data"
    }
   ],
   "source": [
    "t = [d[0]/60 for d in data]\n",
    "v = [d[1] for d in data]\n",
    "plt.figure(figsize=(20,10))\n",
    "plt.scatter(t,v)"
   ]
  },
  {
   "cell_type": "code",
   "execution_count": 12,
   "metadata": {},
   "outputs": [],
   "source": [
    "data.sort(key=lambda x : x[0])"
   ]
  },
  {
   "cell_type": "code",
   "execution_count": 13,
   "metadata": {},
   "outputs": [],
   "source": [
    "m = -1\n",
    "tvdict = dict()\n",
    "for tv in data:\n",
    "    if int(tv[0] / (60 * 1)) > m:\n",
    "        m = int(tv[0] / (60 * 1))\n",
    "        tvdict[m] = [tv[1]]\n",
    "    else:\n",
    "        tvdict[m].append(tv[1])"
   ]
  },
  {
   "cell_type": "code",
   "execution_count": 14,
   "metadata": {},
   "outputs": [],
   "source": [
    "x = list()\n",
    "y = list()\n",
    "for key, value in tvdict.items():\n",
    "    x.append(key)\n",
    "    y.append(np.percentile(value, 75))"
   ]
  },
  {
   "cell_type": "code",
   "execution_count": 15,
   "metadata": {},
   "outputs": [
    {
     "data": {
      "text/plain": [
       "<matplotlib.collections.PathCollection at 0x7f9695d88470>"
      ]
     },
     "execution_count": 15,
     "metadata": {},
     "output_type": "execute_result"
    },
    {
     "data": {
      "image/png": "[encoded data removed]",
      "text/plain": [
       "<Figure size 432x288 with 1 Axes>"
      ]
     },
     "metadata": {},
     "output_type": "display_data"
    }
   ],
   "source": [
    "plt.scatter(x,y)"
   ]
  },
  {
   "cell_type": "code",
   "execution_count": 16,
   "metadata": {},
   "outputs": [
    {
     "name": "stdout",
     "output_type": "stream",
     "text": [
      "61\n"
     ]
    }
   ],
   "source": [
    "i = 0\n",
    "for a in x:\n",
    "    if a > 60:\n",
    "        print(i)\n",
    "        break\n",
    "    i += 1"
   ]
  },
  {
   "cell_type": "code",
   "execution_count": 17,
   "metadata": {},
   "outputs": [],
   "source": [
    "fit = np.polyfit(np.log(x[1:]), y[1:], 1)"
   ]
  },
  {
   "cell_type": "code",
   "execution_count": 18,
   "metadata": {},
   "outputs": [],
   "source": [
    "z = fit[0] * np.log(x[1:]) + fit[1]"
   ]
  },
  {
   "cell_type": "code",
   "execution_count": 19,
   "metadata": {},
   "outputs": [
    {
     "data": {
      "text/plain": [
       "<matplotlib.collections.PathCollection at 0x7f9695c9be10>"
      ]
     },
     "execution_count": 19,
     "metadata": {},
     "output_type": "execute_result"
    },
    {
     "data": {
      "image/png": "[encoded data removed]",
      "text/plain": [
       "<Figure size 432x288 with 1 Axes>"
      ]
     },
     "metadata": {},
     "output_type": "display_data"
    }
   ],
   "source": [
    "plt.plot(x[1:], z)\n",
    "plt.scatter(x[1:], y[1:])"
   ]
  },
  {
   "cell_type": "code",
   "execution_count": 20,
   "metadata": {},
   "outputs": [],
   "source": [
    "from scipy.optimize import curve_fit\n",
    "def lg(x, a):\n",
    "    return a * np.log(np.array(x)+1)"
   ]
  },
  {
   "cell_type": "code",
   "execution_count": 21,
   "metadata": {},
   "outputs": [
    {
     "name": "stderr",
     "output_type": "stream",
     "text": [
      "/home/khang/anaconda3/lib/python3.6/site-packages/ipykernel_launcher.py:2: RuntimeWarning: overflow encountered in power\n",
      "  \n"
     ]
    }
   ],
   "source": [
    "def lg2(x, a, b):\n",
    "    return a * np.log(np.array(x)**b+1)\n",
    "popt, pcov = curve_fit(lg2, x, y)"
   ]
  },
  {
   "cell_type": "code",
   "execution_count": 22,
   "metadata": {},
   "outputs": [
    {
     "data": {
      "text/plain": [
       "<matplotlib.collections.PathCollection at 0x7f96842d3c88>"
      ]
     },
     "execution_count": 22,
     "metadata": {},
     "output_type": "execute_result"
    },
    {
     "data": {
      "image/png": "[encoded data removed]",
      "text/plain": [
       "<Figure size 432x288 with 1 Axes>"
      ]
     },
     "metadata": {},
     "output_type": "display_data"
    }
   ],
   "source": [
    "plt.plot(x, lg2(x, *popt))\n",
    "plt.scatter(x, y)"
   ]
  },
  {
   "cell_type": "code",
   "execution_count": 23,
   "metadata": {},
   "outputs": [
    {
     "name": "stdout",
     "output_type": "stream",
     "text": [
      "[    0.            26.91738779  1754.10088748 ... 23057.61551297\n",
      " 23060.12869319 23082.08237828]\n"
     ]
    }
   ],
   "source": [
    "z = lg2(x, *popt)\n",
    "print(z)"
   ]
  },
  {
   "cell_type": "code",
   "execution_count": 24,
   "metadata": {},
   "outputs": [
    {
     "data": {
      "text/plain": [
       "<matplotlib.collections.PathCollection at 0x7f96842af358>"
      ]
     },
     "execution_count": 24,
     "metadata": {},
     "output_type": "execute_result"
    },
    {
     "data": {
      "image/png": "[encoded data removed]",
      "text/plain": [
       "<Figure size 432x288 with 1 Axes>"
      ]
     },
     "metadata": {},
     "output_type": "display_data"
    }
   ],
   "source": [
    "plt.scatter(x[:50], y[:50])"
   ]
  },
  {
   "cell_type": "code",
   "execution_count": 25,
   "metadata": {},
   "outputs": [],
   "source": [
    "def ep(x, a, b):\n",
    "    return a * (np.exp(np.array(x)*b)-1)"
   ]
  },
  {
   "cell_type": "code",
   "execution_count": 26,
   "metadata": {},
   "outputs": [
    {
     "name": "stdout",
     "output_type": "stream",
     "text": [
      "[1.36577374e+02 6.13713790e-02]\n"
     ]
    },
    {
     "data": {
      "text/plain": [
       "<matplotlib.collections.PathCollection at 0x7f9684214208>"
      ]
     },
     "execution_count": 26,
     "metadata": {},
     "output_type": "execute_result"
    },
    {
     "data": {
      "image/png": "[encoded data removed]",
      "text/plain": [
       "<Figure size 432x288 with 1 Axes>"
      ]
     },
     "metadata": {},
     "output_type": "display_data"
    }
   ],
   "source": [
    "popt, pcov = curve_fit(ep, x[:20], y[:20])\n",
    "z = ep(x[:20], *popt)\n",
    "print(popt)\n",
    "plt.plot(x[:20], z)\n",
    "plt.scatter(x[:20], y[:20])"
   ]
  },
  {
   "cell_type": "code",
   "execution_count": 27,
   "metadata": {},
   "outputs": [],
   "source": [
    "query = 'SELECT Time - Created, Scores FROM Threads INNER JOIN ThreadRates ON Threads.ThreadID = ThreadRates.ThreadID'\n",
    "cursor.execute(query)\n",
    "data2 = cursor.fetchall()\n",
    "query = 'SELECT Time - Created, Scores FROM Threads INNER JOIN Posts ON Threads.ThreadID = Posts.ThreadID'\n",
    "cursor.execute(query)\n",
    "data2.extend(cursor.fetchall())"
   ]
  },
  {
   "cell_type": "code",
   "execution_count": 28,
   "metadata": {},
   "outputs": [
    {
     "data": {
      "text/plain": [
       "<matplotlib.collections.PathCollection at 0x7f967f66fa20>"
      ]
     },
     "execution_count": 28,
     "metadata": {},
     "output_type": "execute_result"
    },
    {
     "data": {
      "image/png": "[encoded data removed]",
      "text/plain": [
       "<Figure size 1440x720 with 1 Axes>"
      ]
     },
     "metadata": {},
     "output_type": "display_data"
    }
   ],
   "source": [
    "t2 = [d[0] for d in data2]\n",
    "v2 = [d[1] for d in data2]\n",
    "plt.figure(figsize=(20,10))\n",
    "plt.scatter(t2,v2)"
   ]
  },
  {
   "cell_type": "code",
   "execution_count": 29,
   "metadata": {},
   "outputs": [],
   "source": [
    "data2.sort(key=lambda x : x[0])\n",
    "m = -1\n",
    "tvdict2 = dict()\n",
    "for tv in data2:\n",
    "    if int(tv[0] / (60 * 1)) > m:\n",
    "        m = int(tv[0] / (60 * 1))\n",
    "        tvdict2[m] = [tv[1]]\n",
    "    else:\n",
    "        tvdict2[m].append(tv[1])"
   ]
  },
  {
   "cell_type": "code",
   "execution_count": 30,
   "metadata": {},
   "outputs": [],
   "source": [
    "x2 = list()\n",
    "y2 = list()\n",
    "for key, value in tvdict2.items():\n",
    "    x2.append(key)\n",
    "    y2.append(np.percentile(value, 75))"
   ]
  },
  {
   "cell_type": "code",
   "execution_count": 31,
   "metadata": {},
   "outputs": [
    {
     "data": {
      "text/plain": [
       "<matplotlib.collections.PathCollection at 0x7f968411d7b8>"
      ]
     },
     "execution_count": 31,
     "metadata": {},
     "output_type": "execute_result"
    },
    {
     "data": {
      "image/png": "[encoded data removed]",
      "text/plain": [
       "<Figure size 432x288 with 1 Axes>"
      ]
     },
     "metadata": {},
     "output_type": "display_data"
    }
   ],
   "source": [
    "plt.scatter(x2[:60], y2[:60])"
   ]
  },
  {
   "cell_type": "code",
   "execution_count": 32,
   "metadata": {},
   "outputs": [
    {
     "name": "stdout",
     "output_type": "stream",
     "text": [
      "[0.26707644]\n"
     ]
    },
    {
     "data": {
      "text/plain": [
       "<matplotlib.collections.PathCollection at 0x7f968407f128>"
      ]
     },
     "execution_count": 32,
     "metadata": {},
     "output_type": "execute_result"
    },
    {
     "data": {
      "image/png": "[encoded data removed]",
      "text/plain": [
       "<Figure size 432x288 with 1 Axes>"
      ]
     },
     "metadata": {},
     "output_type": "display_data"
    }
   ],
   "source": [
    "def plft(x, a):\n",
    "    return a * np.array(x)\n",
    "popt, pcov = curve_fit(plft, x2[:40], y2[:40])\n",
    "z2 = plft(x[:40], *popt)\n",
    "print(popt)\n",
    "plt.plot(x2[:40], z2)\n",
    "plt.scatter(x2[:40], y2[:40])"
   ]
  },
  {
   "cell_type": "code",
   "execution_count": 33,
   "metadata": {},
   "outputs": [
    {
     "name": "stdout",
     "output_type": "stream",
     "text": [
      "(4849,)\n",
      "[1.83297351e+01 1.21576162e-02]\n"
     ]
    },
    {
     "data": {
      "text/plain": [
       "<matplotlib.collections.PathCollection at 0x7f96840687b8>"
      ]
     },
     "execution_count": 33,
     "metadata": {},
     "output_type": "execute_result"
    },
    {
     "data": {
      "image/png": "[encoded data removed]",
      "text/plain": [
       "<Figure size 432x288 with 1 Axes>"
      ]
     },
     "metadata": {},
     "output_type": "display_data"
    }
   ],
   "source": [
    "popt, pcov = curve_fit(ep, x2[:30], y2[:30])\n",
    "z2 = ep(x2, *popt)\n",
    "print(z2.shape)\n",
    "print(popt)\n",
    "plt.plot(np.array(x2[:60]), z2[:60])\n",
    "plt.scatter(x2[:60], y2[:60])"
   ]
  },
  {
   "cell_type": "code",
   "execution_count": 34,
   "metadata": {},
   "outputs": [
    {
     "data": {
      "text/plain": [
       "4849"
      ]
     },
     "execution_count": 34,
     "metadata": {},
     "output_type": "execute_result"
    }
   ],
   "source": [
    "z2 = popt[0] * (np.exp(np.array(x2)*popt[1])-1)\n",
    "len(z2)"
   ]
  },
  {
   "cell_type": "code",
   "execution_count": 35,
   "metadata": {},
   "outputs": [
    {
     "data": {
      "text/plain": [
       "<matplotlib.collections.PathCollection at 0x7f967ff89f98>"
      ]
     },
     "execution_count": 35,
     "metadata": {},
     "output_type": "execute_result"
    },
    {
     "data": {
      "image/png": "[encoded data removed]",
      "text/plain": [
       "<Figure size 432x288 with 1 Axes>"
      ]
     },
     "metadata": {},
     "output_type": "display_data"
    }
   ],
   "source": [
    "plt.plot(np.array(x2[:240]), z2[:240])\n",
    "plt.scatter(x2[:240], y2[:240])"
   ]
  },
  {
   "cell_type": "code",
   "execution_count": 36,
   "metadata": {},
   "outputs": [],
   "source": [
    "import pandas as pd"
   ]
  },
  {
   "cell_type": "code",
   "execution_count": 37,
   "metadata": {},
   "outputs": [],
   "source": [
    "views = pd.read_sql_query('SELECT * FROM ThreadRates',db)"
   ]
  },
  {
   "cell_type": "code",
   "execution_count": 38,
   "metadata": {},
   "outputs": [
    {
     "data": {
      "text/html": [
       "<div>\n",
       "<style scoped>\n",
       "    .dataframe tbody tr th:only-of-type {\n",
       "        vertical-align: middle;\n",
       "    }\n",
       "\n",
       "    .dataframe tbody tr th {\n",
       "        vertical-align: top;\n",
       "    }\n",
       "\n",
       "    .dataframe thead th {\n",
       "        text-align: right;\n",
       "    }\n",
       "</style>\n",
       "<table border=\"1\" class=\"dataframe\">\n",
       "  <thead>\n",
       "    <tr style=\"text-align: right;\">\n",
       "      <th></th>\n",
       "      <th>ThreadRateID</th>\n",
       "      <th>ThreadID</th>\n",
       "      <th>Scores</th>\n",
       "      <th>Replies</th>\n",
       "      <th>Views</th>\n",
       "      <th>Time</th>\n",
       "    </tr>\n",
       "  </thead>\n",
       "  <tbody>\n",
       "    <tr>\n",
       "      <th>0</th>\n",
       "      <td>74281042</td>\n",
       "      <td>13122766</td>\n",
       "      <td>1</td>\n",
       "      <td>1</td>\n",
       "      <td>167</td>\n",
       "      <td>1559553409</td>\n",
       "    </tr>\n",
       "    <tr>\n",
       "      <th>1</th>\n",
       "      <td>74281246</td>\n",
       "      <td>13122823</td>\n",
       "      <td>0</td>\n",
       "      <td>0</td>\n",
       "      <td>187</td>\n",
       "      <td>1559556543</td>\n",
       "    </tr>\n",
       "    <tr>\n",
       "      <th>2</th>\n",
       "      <td>74281300</td>\n",
       "      <td>13122811</td>\n",
       "      <td>0</td>\n",
       "      <td>3</td>\n",
       "      <td>349</td>\n",
       "      <td>1559557503</td>\n",
       "    </tr>\n",
       "    <tr>\n",
       "      <th>3</th>\n",
       "      <td>74281309</td>\n",
       "      <td>13122811</td>\n",
       "      <td>-2</td>\n",
       "      <td>3</td>\n",
       "      <td>360</td>\n",
       "      <td>1559557743</td>\n",
       "    </tr>\n",
       "    <tr>\n",
       "      <th>4</th>\n",
       "      <td>74281342</td>\n",
       "      <td>13122844</td>\n",
       "      <td>0</td>\n",
       "      <td>0</td>\n",
       "      <td>38</td>\n",
       "      <td>1559558103</td>\n",
       "    </tr>\n",
       "  </tbody>\n",
       "</table>\n",
       "</div>"
      ],
      "text/plain": [
       "   ThreadRateID  ThreadID  Scores  Replies  Views        Time\n",
       "0      74281042  13122766       1        1    167  1559553409\n",
       "1      74281246  13122823       0        0    187  1559556543\n",
       "2      74281300  13122811       0        3    349  1559557503\n",
       "3      74281309  13122811      -2        3    360  1559557743\n",
       "4      74281342  13122844       0        0     38  1559558103"
      ]
     },
     "execution_count": 38,
     "metadata": {},
     "output_type": "execute_result"
    }
   ],
   "source": [
    "views.head()"
   ]
  },
  {
   "cell_type": "code",
   "execution_count": 39,
   "metadata": {},
   "outputs": [
    {
     "data": {
      "text/plain": [
       "<matplotlib.axes._subplots.AxesSubplot at 0x7f967264fdd8>"
      ]
     },
     "execution_count": 39,
     "metadata": {},
     "output_type": "execute_result"
    },
    {
     "data": {
      "image/png": "[encoded data removed]",
      "text/plain": [
       "<Figure size 432x288 with 1 Axes>"
      ]
     },
     "metadata": {},
     "output_type": "display_data"
    }
   ],
   "source": [
    "views.plot()"
   ]
  },
  {
   "cell_type": "code",
   "execution_count": 40,
   "metadata": {},
   "outputs": [],
   "source": [
    "viewst = views.set_index('Time')"
   ]
  },
  {
   "cell_type": "code",
   "execution_count": 41,
   "metadata": {},
   "outputs": [
    {
     "data": {
      "text/html": [
       "<div>\n",
       "<style scoped>\n",
       "    .dataframe tbody tr th:only-of-type {\n",
       "        vertical-align: middle;\n",
       "    }\n",
       "\n",
       "    .dataframe tbody tr th {\n",
       "        vertical-align: top;\n",
       "    }\n",
       "\n",
       "    .dataframe thead th {\n",
       "        text-align: right;\n",
       "    }\n",
       "</style>\n",
       "<table border=\"1\" class=\"dataframe\">\n",
       "  <thead>\n",
       "    <tr style=\"text-align: right;\">\n",
       "      <th></th>\n",
       "      <th>ThreadRateID</th>\n",
       "      <th>ThreadID</th>\n",
       "      <th>Scores</th>\n",
       "      <th>Replies</th>\n",
       "      <th>Views</th>\n",
       "    </tr>\n",
       "    <tr>\n",
       "      <th>Time</th>\n",
       "      <th></th>\n",
       "      <th></th>\n",
       "      <th></th>\n",
       "      <th></th>\n",
       "      <th></th>\n",
       "    </tr>\n",
       "  </thead>\n",
       "  <tbody>\n",
       "    <tr>\n",
       "      <th>1559553409</th>\n",
       "      <td>74281042</td>\n",
       "      <td>13122766</td>\n",
       "      <td>1</td>\n",
       "      <td>1</td>\n",
       "      <td>167</td>\n",
       "    </tr>\n",
       "    <tr>\n",
       "      <th>1559556543</th>\n",
       "      <td>74281246</td>\n",
       "      <td>13122823</td>\n",
       "      <td>0</td>\n",
       "      <td>0</td>\n",
       "      <td>187</td>\n",
       "    </tr>\n",
       "    <tr>\n",
       "      <th>1559557503</th>\n",
       "      <td>74281300</td>\n",
       "      <td>13122811</td>\n",
       "      <td>0</td>\n",
       "      <td>3</td>\n",
       "      <td>349</td>\n",
       "    </tr>\n",
       "    <tr>\n",
       "      <th>1559557743</th>\n",
       "      <td>74281309</td>\n",
       "      <td>13122811</td>\n",
       "      <td>-2</td>\n",
       "      <td>3</td>\n",
       "      <td>360</td>\n",
       "    </tr>\n",
       "    <tr>\n",
       "      <th>1559558103</th>\n",
       "      <td>74281342</td>\n",
       "      <td>13122844</td>\n",
       "      <td>0</td>\n",
       "      <td>0</td>\n",
       "      <td>38</td>\n",
       "    </tr>\n",
       "  </tbody>\n",
       "</table>\n",
       "</div>"
      ],
      "text/plain": [
       "            ThreadRateID  ThreadID  Scores  Replies  Views\n",
       "Time                                                      \n",
       "1559553409      74281042  13122766       1        1    167\n",
       "1559556543      74281246  13122823       0        0    187\n",
       "1559557503      74281300  13122811       0        3    349\n",
       "1559557743      74281309  13122811      -2        3    360\n",
       "1559558103      74281342  13122844       0        0     38"
      ]
     },
     "execution_count": 41,
     "metadata": {},
     "output_type": "execute_result"
    }
   ],
   "source": [
    "viewst.head()"
   ]
  },
  {
   "cell_type": "code",
   "execution_count": 42,
   "metadata": {},
   "outputs": [],
   "source": [
    "threads = pd.read_sql_query('SELECT * FROM Threads',db)"
   ]
  },
  {
   "cell_type": "code",
   "execution_count": 43,
   "metadata": {},
   "outputs": [],
   "source": [
    "views.Time -= 1"
   ]
  },
  {
   "cell_type": "code",
   "execution_count": 44,
   "metadata": {},
   "outputs": [],
   "source": [
    "views.Time += 1"
   ]
  },
  {
   "cell_type": "code",
   "execution_count": 45,
   "metadata": {},
   "outputs": [
    {
     "data": {
      "text/html": [
       "<div>\n",
       "<style scoped>\n",
       "    .dataframe tbody tr th:only-of-type {\n",
       "        vertical-align: middle;\n",
       "    }\n",
       "\n",
       "    .dataframe tbody tr th {\n",
       "        vertical-align: top;\n",
       "    }\n",
       "\n",
       "    .dataframe thead th {\n",
       "        text-align: right;\n",
       "    }\n",
       "</style>\n",
       "<table border=\"1\" class=\"dataframe\">\n",
       "  <thead>\n",
       "    <tr style=\"text-align: right;\">\n",
       "      <th></th>\n",
       "      <th>ThreadRateID</th>\n",
       "      <th>ThreadID</th>\n",
       "      <th>Scores</th>\n",
       "      <th>Replies</th>\n",
       "      <th>Views</th>\n",
       "      <th>Time</th>\n",
       "    </tr>\n",
       "  </thead>\n",
       "  <tbody>\n",
       "    <tr>\n",
       "      <th>0</th>\n",
       "      <td>74281042</td>\n",
       "      <td>13122766</td>\n",
       "      <td>1</td>\n",
       "      <td>1</td>\n",
       "      <td>167</td>\n",
       "      <td>1559553409</td>\n",
       "    </tr>\n",
       "    <tr>\n",
       "      <th>1</th>\n",
       "      <td>74281246</td>\n",
       "      <td>13122823</td>\n",
       "      <td>0</td>\n",
       "      <td>0</td>\n",
       "      <td>187</td>\n",
       "      <td>1559556543</td>\n",
       "    </tr>\n",
       "    <tr>\n",
       "      <th>2</th>\n",
       "      <td>74281300</td>\n",
       "      <td>13122811</td>\n",
       "      <td>0</td>\n",
       "      <td>3</td>\n",
       "      <td>349</td>\n",
       "      <td>1559557503</td>\n",
       "    </tr>\n",
       "    <tr>\n",
       "      <th>3</th>\n",
       "      <td>74281309</td>\n",
       "      <td>13122811</td>\n",
       "      <td>-2</td>\n",
       "      <td>3</td>\n",
       "      <td>360</td>\n",
       "      <td>1559557743</td>\n",
       "    </tr>\n",
       "    <tr>\n",
       "      <th>4</th>\n",
       "      <td>74281342</td>\n",
       "      <td>13122844</td>\n",
       "      <td>0</td>\n",
       "      <td>0</td>\n",
       "      <td>38</td>\n",
       "      <td>1559558103</td>\n",
       "    </tr>\n",
       "  </tbody>\n",
       "</table>\n",
       "</div>"
      ],
      "text/plain": [
       "   ThreadRateID  ThreadID  Scores  Replies  Views        Time\n",
       "0      74281042  13122766       1        1    167  1559553409\n",
       "1      74281246  13122823       0        0    187  1559556543\n",
       "2      74281300  13122811       0        3    349  1559557503\n",
       "3      74281309  13122811      -2        3    360  1559557743\n",
       "4      74281342  13122844       0        0     38  1559558103"
      ]
     },
     "execution_count": 45,
     "metadata": {},
     "output_type": "execute_result"
    }
   ],
   "source": [
    "views.head()"
   ]
  },
  {
   "cell_type": "code",
   "execution_count": 46,
   "metadata": {},
   "outputs": [
    {
     "data": {
      "text/html": [
       "<div>\n",
       "<style scoped>\n",
       "    .dataframe tbody tr th:only-of-type {\n",
       "        vertical-align: middle;\n",
       "    }\n",
       "\n",
       "    .dataframe tbody tr th {\n",
       "        vertical-align: top;\n",
       "    }\n",
       "\n",
       "    .dataframe thead th {\n",
       "        text-align: right;\n",
       "    }\n",
       "</style>\n",
       "<table border=\"1\" class=\"dataframe\">\n",
       "  <thead>\n",
       "    <tr style=\"text-align: right;\">\n",
       "      <th></th>\n",
       "      <th>ThreadID</th>\n",
       "      <th>Scores</th>\n",
       "      <th>Views</th>\n",
       "      <th>Replies</th>\n",
       "      <th>Time</th>\n",
       "    </tr>\n",
       "  </thead>\n",
       "  <tbody>\n",
       "    <tr>\n",
       "      <th>0</th>\n",
       "      <td>13122736</td>\n",
       "      <td>0</td>\n",
       "      <td>320</td>\n",
       "      <td>1</td>\n",
       "      <td>9914</td>\n",
       "    </tr>\n",
       "    <tr>\n",
       "      <th>1</th>\n",
       "      <td>13122736</td>\n",
       "      <td>2</td>\n",
       "      <td>937</td>\n",
       "      <td>1</td>\n",
       "      <td>26355</td>\n",
       "    </tr>\n",
       "    <tr>\n",
       "      <th>2</th>\n",
       "      <td>13122736</td>\n",
       "      <td>3</td>\n",
       "      <td>943</td>\n",
       "      <td>3</td>\n",
       "      <td>26714</td>\n",
       "    </tr>\n",
       "    <tr>\n",
       "      <th>3</th>\n",
       "      <td>13122736</td>\n",
       "      <td>4</td>\n",
       "      <td>1196</td>\n",
       "      <td>3</td>\n",
       "      <td>28094</td>\n",
       "    </tr>\n",
       "    <tr>\n",
       "      <th>4</th>\n",
       "      <td>13122736</td>\n",
       "      <td>6</td>\n",
       "      <td>1294</td>\n",
       "      <td>3</td>\n",
       "      <td>28633</td>\n",
       "    </tr>\n",
       "  </tbody>\n",
       "</table>\n",
       "</div>"
      ],
      "text/plain": [
       "   ThreadID  Scores  Views  Replies   Time\n",
       "0  13122736       0    320        1   9914\n",
       "1  13122736       2    937        1  26355\n",
       "2  13122736       3    943        3  26714\n",
       "3  13122736       4   1196        3  28094\n",
       "4  13122736       6   1294        3  28633"
      ]
     },
     "execution_count": 46,
     "metadata": {},
     "output_type": "execute_result"
    }
   ],
   "source": [
    "query_tr = 'SELECT Threads.ThreadID, Scores, Views, Replies, Time - Created AS Time FROM ThreadRates INNER JOIN Threads ON Threads.ThreadID = ThreadRates.ThreadID'\n",
    "query_p = 'SELECT Threads.ThreadID, Scores, Views, Replies, Time - Created AS Time FROM Posts INNER JOIN Threads ON Threads.ThreadID = Posts.ThreadID'\n",
    "infodf = pd.concat([pd.read_sql_query(query_tr, db), pd.read_sql_query(query_p, db)])\n",
    "infodf.head()"
   ]
  },
  {
   "cell_type": "code",
   "execution_count": 47,
   "metadata": {},
   "outputs": [
    {
     "data": {
      "text/plain": [
       "65014"
      ]
     },
     "execution_count": 47,
     "metadata": {},
     "output_type": "execute_result"
    }
   ],
   "source": [
    "len(infodf)"
   ]
  },
  {
   "cell_type": "code",
   "execution_count": 48,
   "metadata": {},
   "outputs": [],
   "source": [
    "info_by_time = infodf.set_index('Time')"
   ]
  },
  {
   "cell_type": "code",
   "execution_count": 49,
   "metadata": {},
   "outputs": [
    {
     "data": {
      "text/html": [
       "<div>\n",
       "<style scoped>\n",
       "    .dataframe tbody tr th:only-of-type {\n",
       "        vertical-align: middle;\n",
       "    }\n",
       "\n",
       "    .dataframe tbody tr th {\n",
       "        vertical-align: top;\n",
       "    }\n",
       "\n",
       "    .dataframe thead th {\n",
       "        text-align: right;\n",
       "    }\n",
       "</style>\n",
       "<table border=\"1\" class=\"dataframe\">\n",
       "  <thead>\n",
       "    <tr style=\"text-align: right;\">\n",
       "      <th></th>\n",
       "      <th>ThreadID</th>\n",
       "      <th>Scores</th>\n",
       "      <th>Views</th>\n",
       "      <th>Replies</th>\n",
       "    </tr>\n",
       "    <tr>\n",
       "      <th>Time</th>\n",
       "      <th></th>\n",
       "      <th></th>\n",
       "      <th></th>\n",
       "      <th></th>\n",
       "    </tr>\n",
       "  </thead>\n",
       "  <tbody>\n",
       "    <tr>\n",
       "      <th>9914</th>\n",
       "      <td>13122736</td>\n",
       "      <td>0</td>\n",
       "      <td>320</td>\n",
       "      <td>1</td>\n",
       "    </tr>\n",
       "    <tr>\n",
       "      <th>26355</th>\n",
       "      <td>13122736</td>\n",
       "      <td>2</td>\n",
       "      <td>937</td>\n",
       "      <td>1</td>\n",
       "    </tr>\n",
       "    <tr>\n",
       "      <th>26714</th>\n",
       "      <td>13122736</td>\n",
       "      <td>3</td>\n",
       "      <td>943</td>\n",
       "      <td>3</td>\n",
       "    </tr>\n",
       "    <tr>\n",
       "      <th>28094</th>\n",
       "      <td>13122736</td>\n",
       "      <td>4</td>\n",
       "      <td>1196</td>\n",
       "      <td>3</td>\n",
       "    </tr>\n",
       "    <tr>\n",
       "      <th>28633</th>\n",
       "      <td>13122736</td>\n",
       "      <td>6</td>\n",
       "      <td>1294</td>\n",
       "      <td>3</td>\n",
       "    </tr>\n",
       "  </tbody>\n",
       "</table>\n",
       "</div>"
      ],
      "text/plain": [
       "       ThreadID  Scores  Views  Replies\n",
       "Time                                   \n",
       "9914   13122736       0    320        1\n",
       "26355  13122736       2    937        1\n",
       "26714  13122736       3    943        3\n",
       "28094  13122736       4   1196        3\n",
       "28633  13122736       6   1294        3"
      ]
     },
     "execution_count": 49,
     "metadata": {},
     "output_type": "execute_result"
    }
   ],
   "source": [
    "info_by_time.head()"
   ]
  },
  {
   "cell_type": "code",
   "execution_count": 50,
   "metadata": {},
   "outputs": [
    {
     "data": {
      "text/html": [
       "<div>\n",
       "<style scoped>\n",
       "    .dataframe tbody tr th:only-of-type {\n",
       "        vertical-align: middle;\n",
       "    }\n",
       "\n",
       "    .dataframe tbody tr th {\n",
       "        vertical-align: top;\n",
       "    }\n",
       "\n",
       "    .dataframe thead th {\n",
       "        text-align: right;\n",
       "    }\n",
       "</style>\n",
       "<table border=\"1\" class=\"dataframe\">\n",
       "  <thead>\n",
       "    <tr style=\"text-align: right;\">\n",
       "      <th></th>\n",
       "      <th>ThreadID</th>\n",
       "      <th>Scores</th>\n",
       "      <th>Views</th>\n",
       "      <th>Replies</th>\n",
       "    </tr>\n",
       "    <tr>\n",
       "      <th>Time</th>\n",
       "      <th></th>\n",
       "      <th></th>\n",
       "      <th></th>\n",
       "      <th></th>\n",
       "    </tr>\n",
       "  </thead>\n",
       "  <tbody>\n",
       "    <tr>\n",
       "      <th>0</th>\n",
       "      <td>13125709</td>\n",
       "      <td>0</td>\n",
       "      <td>0</td>\n",
       "      <td>0</td>\n",
       "    </tr>\n",
       "    <tr>\n",
       "      <th>0</th>\n",
       "      <td>13130254</td>\n",
       "      <td>0</td>\n",
       "      <td>0</td>\n",
       "      <td>0</td>\n",
       "    </tr>\n",
       "    <tr>\n",
       "      <th>0</th>\n",
       "      <td>13124923</td>\n",
       "      <td>0</td>\n",
       "      <td>1</td>\n",
       "      <td>0</td>\n",
       "    </tr>\n",
       "    <tr>\n",
       "      <th>0</th>\n",
       "      <td>13136035</td>\n",
       "      <td>0</td>\n",
       "      <td>0</td>\n",
       "      <td>0</td>\n",
       "    </tr>\n",
       "    <tr>\n",
       "      <th>0</th>\n",
       "      <td>13128490</td>\n",
       "      <td>0</td>\n",
       "      <td>0</td>\n",
       "      <td>0</td>\n",
       "    </tr>\n",
       "    <tr>\n",
       "      <th>0</th>\n",
       "      <td>13130293</td>\n",
       "      <td>0</td>\n",
       "      <td>0</td>\n",
       "      <td>0</td>\n",
       "    </tr>\n",
       "    <tr>\n",
       "      <th>0</th>\n",
       "      <td>13130320</td>\n",
       "      <td>0</td>\n",
       "      <td>0</td>\n",
       "      <td>0</td>\n",
       "    </tr>\n",
       "    <tr>\n",
       "      <th>0</th>\n",
       "      <td>13134508</td>\n",
       "      <td>1</td>\n",
       "      <td>0</td>\n",
       "      <td>0</td>\n",
       "    </tr>\n",
       "    <tr>\n",
       "      <th>0</th>\n",
       "      <td>13123810</td>\n",
       "      <td>0</td>\n",
       "      <td>0</td>\n",
       "      <td>0</td>\n",
       "    </tr>\n",
       "    <tr>\n",
       "      <th>0</th>\n",
       "      <td>13130419</td>\n",
       "      <td>0</td>\n",
       "      <td>0</td>\n",
       "      <td>0</td>\n",
       "    </tr>\n",
       "    <tr>\n",
       "      <th>0</th>\n",
       "      <td>13136059</td>\n",
       "      <td>0</td>\n",
       "      <td>0</td>\n",
       "      <td>0</td>\n",
       "    </tr>\n",
       "    <tr>\n",
       "      <th>0</th>\n",
       "      <td>13136077</td>\n",
       "      <td>0</td>\n",
       "      <td>0</td>\n",
       "      <td>0</td>\n",
       "    </tr>\n",
       "    <tr>\n",
       "      <th>0</th>\n",
       "      <td>13126519</td>\n",
       "      <td>0</td>\n",
       "      <td>0</td>\n",
       "      <td>0</td>\n",
       "    </tr>\n",
       "    <tr>\n",
       "      <th>0</th>\n",
       "      <td>13136128</td>\n",
       "      <td>0</td>\n",
       "      <td>0</td>\n",
       "      <td>0</td>\n",
       "    </tr>\n",
       "    <tr>\n",
       "      <th>0</th>\n",
       "      <td>13127044</td>\n",
       "      <td>0</td>\n",
       "      <td>0</td>\n",
       "      <td>0</td>\n",
       "    </tr>\n",
       "    <tr>\n",
       "      <th>0</th>\n",
       "      <td>13134436</td>\n",
       "      <td>1</td>\n",
       "      <td>0</td>\n",
       "      <td>0</td>\n",
       "    </tr>\n",
       "    <tr>\n",
       "      <th>0</th>\n",
       "      <td>13136161</td>\n",
       "      <td>0</td>\n",
       "      <td>0</td>\n",
       "      <td>0</td>\n",
       "    </tr>\n",
       "    <tr>\n",
       "      <th>0</th>\n",
       "      <td>13134280</td>\n",
       "      <td>0</td>\n",
       "      <td>1</td>\n",
       "      <td>0</td>\n",
       "    </tr>\n",
       "    <tr>\n",
       "      <th>0</th>\n",
       "      <td>13136254</td>\n",
       "      <td>0</td>\n",
       "      <td>0</td>\n",
       "      <td>0</td>\n",
       "    </tr>\n",
       "    <tr>\n",
       "      <th>0</th>\n",
       "      <td>13136275</td>\n",
       "      <td>0</td>\n",
       "      <td>0</td>\n",
       "      <td>0</td>\n",
       "    </tr>\n",
       "    <tr>\n",
       "      <th>0</th>\n",
       "      <td>13134220</td>\n",
       "      <td>0</td>\n",
       "      <td>0</td>\n",
       "      <td>0</td>\n",
       "    </tr>\n",
       "    <tr>\n",
       "      <th>0</th>\n",
       "      <td>13134199</td>\n",
       "      <td>0</td>\n",
       "      <td>0</td>\n",
       "      <td>0</td>\n",
       "    </tr>\n",
       "    <tr>\n",
       "      <th>0</th>\n",
       "      <td>13122967</td>\n",
       "      <td>0</td>\n",
       "      <td>0</td>\n",
       "      <td>0</td>\n",
       "    </tr>\n",
       "    <tr>\n",
       "      <th>0</th>\n",
       "      <td>13123036</td>\n",
       "      <td>0</td>\n",
       "      <td>0</td>\n",
       "      <td>0</td>\n",
       "    </tr>\n",
       "    <tr>\n",
       "      <th>0</th>\n",
       "      <td>13127185</td>\n",
       "      <td>0</td>\n",
       "      <td>0</td>\n",
       "      <td>0</td>\n",
       "    </tr>\n",
       "    <tr>\n",
       "      <th>0</th>\n",
       "      <td>13126315</td>\n",
       "      <td>0</td>\n",
       "      <td>0</td>\n",
       "      <td>0</td>\n",
       "    </tr>\n",
       "    <tr>\n",
       "      <th>0</th>\n",
       "      <td>13128259</td>\n",
       "      <td>0</td>\n",
       "      <td>0</td>\n",
       "      <td>0</td>\n",
       "    </tr>\n",
       "    <tr>\n",
       "      <th>0</th>\n",
       "      <td>13128253</td>\n",
       "      <td>0</td>\n",
       "      <td>0</td>\n",
       "      <td>0</td>\n",
       "    </tr>\n",
       "    <tr>\n",
       "      <th>0</th>\n",
       "      <td>13130929</td>\n",
       "      <td>0</td>\n",
       "      <td>0</td>\n",
       "      <td>0</td>\n",
       "    </tr>\n",
       "    <tr>\n",
       "      <th>0</th>\n",
       "      <td>13125064</td>\n",
       "      <td>0</td>\n",
       "      <td>0</td>\n",
       "      <td>0</td>\n",
       "    </tr>\n",
       "    <tr>\n",
       "      <th>...</th>\n",
       "      <td>...</td>\n",
       "      <td>...</td>\n",
       "      <td>...</td>\n",
       "      <td>...</td>\n",
       "    </tr>\n",
       "    <tr>\n",
       "      <th>508515</th>\n",
       "      <td>13122778</td>\n",
       "      <td>2</td>\n",
       "      <td>1979</td>\n",
       "      <td>9</td>\n",
       "    </tr>\n",
       "    <tr>\n",
       "      <th>509097</th>\n",
       "      <td>13124509</td>\n",
       "      <td>-10</td>\n",
       "      <td>1355</td>\n",
       "      <td>1</td>\n",
       "    </tr>\n",
       "    <tr>\n",
       "      <th>509880</th>\n",
       "      <td>13124509</td>\n",
       "      <td>-10</td>\n",
       "      <td>1355</td>\n",
       "      <td>1</td>\n",
       "    </tr>\n",
       "    <tr>\n",
       "      <th>510359</th>\n",
       "      <td>13123771</td>\n",
       "      <td>75</td>\n",
       "      <td>42416</td>\n",
       "      <td>77</td>\n",
       "    </tr>\n",
       "    <tr>\n",
       "      <th>511018</th>\n",
       "      <td>13122856</td>\n",
       "      <td>47</td>\n",
       "      <td>37385</td>\n",
       "      <td>134</td>\n",
       "    </tr>\n",
       "    <tr>\n",
       "      <th>515099</th>\n",
       "      <td>13123843</td>\n",
       "      <td>5</td>\n",
       "      <td>13370</td>\n",
       "      <td>49</td>\n",
       "    </tr>\n",
       "    <tr>\n",
       "      <th>515278</th>\n",
       "      <td>13124251</td>\n",
       "      <td>4</td>\n",
       "      <td>1380</td>\n",
       "      <td>0</td>\n",
       "    </tr>\n",
       "    <tr>\n",
       "      <th>517199</th>\n",
       "      <td>13123216</td>\n",
       "      <td>133</td>\n",
       "      <td>58356</td>\n",
       "      <td>178</td>\n",
       "    </tr>\n",
       "    <tr>\n",
       "      <th>518159</th>\n",
       "      <td>13123216</td>\n",
       "      <td>133</td>\n",
       "      <td>58388</td>\n",
       "      <td>179</td>\n",
       "    </tr>\n",
       "    <tr>\n",
       "      <th>518219</th>\n",
       "      <td>13123216</td>\n",
       "      <td>133</td>\n",
       "      <td>58397</td>\n",
       "      <td>180</td>\n",
       "    </tr>\n",
       "    <tr>\n",
       "      <th>519658</th>\n",
       "      <td>13123522</td>\n",
       "      <td>8</td>\n",
       "      <td>2188</td>\n",
       "      <td>3</td>\n",
       "    </tr>\n",
       "    <tr>\n",
       "      <th>520379</th>\n",
       "      <td>13123216</td>\n",
       "      <td>133</td>\n",
       "      <td>58487</td>\n",
       "      <td>181</td>\n",
       "    </tr>\n",
       "    <tr>\n",
       "      <th>522536</th>\n",
       "      <td>13122931</td>\n",
       "      <td>28</td>\n",
       "      <td>5863</td>\n",
       "      <td>24</td>\n",
       "    </tr>\n",
       "    <tr>\n",
       "      <th>522596</th>\n",
       "      <td>13123972</td>\n",
       "      <td>36</td>\n",
       "      <td>30042</td>\n",
       "      <td>80</td>\n",
       "    </tr>\n",
       "    <tr>\n",
       "      <th>523916</th>\n",
       "      <td>13122931</td>\n",
       "      <td>28</td>\n",
       "      <td>5863</td>\n",
       "      <td>24</td>\n",
       "    </tr>\n",
       "    <tr>\n",
       "      <th>524816</th>\n",
       "      <td>13122931</td>\n",
       "      <td>28</td>\n",
       "      <td>5914</td>\n",
       "      <td>26</td>\n",
       "    </tr>\n",
       "    <tr>\n",
       "      <th>526019</th>\n",
       "      <td>13123216</td>\n",
       "      <td>133</td>\n",
       "      <td>58634</td>\n",
       "      <td>181</td>\n",
       "    </tr>\n",
       "    <tr>\n",
       "      <th>527519</th>\n",
       "      <td>13123507</td>\n",
       "      <td>56</td>\n",
       "      <td>28797</td>\n",
       "      <td>44</td>\n",
       "    </tr>\n",
       "    <tr>\n",
       "      <th>528658</th>\n",
       "      <td>13123117</td>\n",
       "      <td>12</td>\n",
       "      <td>5297</td>\n",
       "      <td>24</td>\n",
       "    </tr>\n",
       "    <tr>\n",
       "      <th>534178</th>\n",
       "      <td>13123216</td>\n",
       "      <td>134</td>\n",
       "      <td>58824</td>\n",
       "      <td>181</td>\n",
       "    </tr>\n",
       "    <tr>\n",
       "      <th>534597</th>\n",
       "      <td>13123009</td>\n",
       "      <td>2</td>\n",
       "      <td>2321</td>\n",
       "      <td>4</td>\n",
       "    </tr>\n",
       "    <tr>\n",
       "      <th>536279</th>\n",
       "      <td>13123216</td>\n",
       "      <td>135</td>\n",
       "      <td>58871</td>\n",
       "      <td>181</td>\n",
       "    </tr>\n",
       "    <tr>\n",
       "      <th>536283</th>\n",
       "      <td>13123069</td>\n",
       "      <td>42</td>\n",
       "      <td>6910</td>\n",
       "      <td>17</td>\n",
       "    </tr>\n",
       "    <tr>\n",
       "      <th>540119</th>\n",
       "      <td>13123042</td>\n",
       "      <td>72</td>\n",
       "      <td>44692</td>\n",
       "      <td>72</td>\n",
       "    </tr>\n",
       "    <tr>\n",
       "      <th>540194</th>\n",
       "      <td>13122814</td>\n",
       "      <td>6</td>\n",
       "      <td>3748</td>\n",
       "      <td>4</td>\n",
       "    </tr>\n",
       "    <tr>\n",
       "      <th>541799</th>\n",
       "      <td>13123501</td>\n",
       "      <td>-2</td>\n",
       "      <td>1651</td>\n",
       "      <td>5</td>\n",
       "    </tr>\n",
       "    <tr>\n",
       "      <th>542462</th>\n",
       "      <td>13123501</td>\n",
       "      <td>-2</td>\n",
       "      <td>1651</td>\n",
       "      <td>5</td>\n",
       "    </tr>\n",
       "    <tr>\n",
       "      <th>543538</th>\n",
       "      <td>13123009</td>\n",
       "      <td>2</td>\n",
       "      <td>2409</td>\n",
       "      <td>5</td>\n",
       "    </tr>\n",
       "    <tr>\n",
       "      <th>544078</th>\n",
       "      <td>13123009</td>\n",
       "      <td>2</td>\n",
       "      <td>2409</td>\n",
       "      <td>5</td>\n",
       "    </tr>\n",
       "    <tr>\n",
       "      <th>548817</th>\n",
       "      <td>13123009</td>\n",
       "      <td>2</td>\n",
       "      <td>2409</td>\n",
       "      <td>5</td>\n",
       "    </tr>\n",
       "  </tbody>\n",
       "</table>\n",
       "<p>65014 rows × 4 columns</p>\n",
       "</div>"
      ],
      "text/plain": [
       "        ThreadID  Scores  Views  Replies\n",
       "Time                                    \n",
       "0       13125709       0      0        0\n",
       "0       13130254       0      0        0\n",
       "0       13124923       0      1        0\n",
       "0       13136035       0      0        0\n",
       "0       13128490       0      0        0\n",
       "0       13130293       0      0        0\n",
       "0       13130320       0      0        0\n",
       "0       13134508       1      0        0\n",
       "0       13123810       0      0        0\n",
       "0       13130419       0      0        0\n",
       "0       13136059       0      0        0\n",
       "0       13136077       0      0        0\n",
       "0       13126519       0      0        0\n",
       "0       13136128       0      0        0\n",
       "0       13127044       0      0        0\n",
       "0       13134436       1      0        0\n",
       "0       13136161       0      0        0\n",
       "0       13134280       0      1        0\n",
       "0       13136254       0      0        0\n",
       "0       13136275       0      0        0\n",
       "0       13134220       0      0        0\n",
       "0       13134199       0      0        0\n",
       "0       13122967       0      0        0\n",
       "0       13123036       0      0        0\n",
       "0       13127185       0      0        0\n",
       "0       13126315       0      0        0\n",
       "0       13128259       0      0        0\n",
       "0       13128253       0      0        0\n",
       "0       13130929       0      0        0\n",
       "0       13125064       0      0        0\n",
       "...          ...     ...    ...      ...\n",
       "508515  13122778       2   1979        9\n",
       "509097  13124509     -10   1355        1\n",
       "509880  13124509     -10   1355        1\n",
       "510359  13123771      75  42416       77\n",
       "511018  13122856      47  37385      134\n",
       "515099  13123843       5  13370       49\n",
       "515278  13124251       4   1380        0\n",
       "517199  13123216     133  58356      178\n",
       "518159  13123216     133  58388      179\n",
       "518219  13123216     133  58397      180\n",
       "519658  13123522       8   2188        3\n",
       "520379  13123216     133  58487      181\n",
       "522536  13122931      28   5863       24\n",
       "522596  13123972      36  30042       80\n",
       "523916  13122931      28   5863       24\n",
       "524816  13122931      28   5914       26\n",
       "526019  13123216     133  58634      181\n",
       "527519  13123507      56  28797       44\n",
       "528658  13123117      12   5297       24\n",
       "534178  13123216     134  58824      181\n",
       "534597  13123009       2   2321        4\n",
       "536279  13123216     135  58871      181\n",
       "536283  13123069      42   6910       17\n",
       "540119  13123042      72  44692       72\n",
       "540194  13122814       6   3748        4\n",
       "541799  13123501      -2   1651        5\n",
       "542462  13123501      -2   1651        5\n",
       "543538  13123009       2   2409        5\n",
       "544078  13123009       2   2409        5\n",
       "548817  13123009       2   2409        5\n",
       "\n",
       "[65014 rows x 4 columns]"
      ]
     },
     "execution_count": 50,
     "metadata": {},
     "output_type": "execute_result"
    }
   ],
   "source": [
    "info_by_time.sort_index()"
   ]
  },
  {
   "cell_type": "code",
   "execution_count": 51,
   "metadata": {},
   "outputs": [
    {
     "data": {
      "text/plain": [
       "<matplotlib.axes._subplots.AxesSubplot at 0x7f9673648978>"
      ]
     },
     "execution_count": 51,
     "metadata": {},
     "output_type": "execute_result"
    },
    {
     "data": {
      "image/png": "[encoded data removed]",
      "text/plain": [
       "<Figure size 432x288 with 1 Axes>"
      ]
     },
     "metadata": {},
     "output_type": "display_data"
    }
   ],
   "source": [
    "info_by_time.plot()"
   ]
  },
  {
   "cell_type": "code",
   "execution_count": 52,
   "metadata": {},
   "outputs": [
    {
     "data": {
      "text/plain": [
       "<matplotlib.axes._subplots.AxesSubplot at 0x7f96736c5160>"
      ]
     },
     "execution_count": 52,
     "metadata": {},
     "output_type": "execute_result"
    },
    {
     "data": {
      "image/png": "[encoded data removed]",
      "text/plain": [
       "<Figure size 432x288 with 1 Axes>"
      ]
     },
     "metadata": {},
     "output_type": "display_data"
    }
   ],
   "source": [
    "infodf[infodf.Time < 60*3600].plot.scatter(x='Time', y='Views')"
   ]
  },
  {
   "cell_type": "code",
   "execution_count": 53,
   "metadata": {},
   "outputs": [
    {
     "data": {
      "text/html": [
       "<div>\n",
       "<style scoped>\n",
       "    .dataframe tbody tr th:only-of-type {\n",
       "        vertical-align: middle;\n",
       "    }\n",
       "\n",
       "    .dataframe tbody tr th {\n",
       "        vertical-align: top;\n",
       "    }\n",
       "\n",
       "    .dataframe thead th {\n",
       "        text-align: right;\n",
       "    }\n",
       "</style>\n",
       "<table border=\"1\" class=\"dataframe\">\n",
       "  <thead>\n",
       "    <tr style=\"text-align: right;\">\n",
       "      <th></th>\n",
       "      <th>ThreadID</th>\n",
       "      <th>Scores</th>\n",
       "      <th>Views</th>\n",
       "      <th>Replies</th>\n",
       "    </tr>\n",
       "  </thead>\n",
       "  <tbody>\n",
       "    <tr>\n",
       "      <th>count</th>\n",
       "      <td>6.501400e+04</td>\n",
       "      <td>65014.000000</td>\n",
       "      <td>65014.000000</td>\n",
       "      <td>65014.000000</td>\n",
       "    </tr>\n",
       "    <tr>\n",
       "      <th>mean</th>\n",
       "      <td>1.312969e+07</td>\n",
       "      <td>34.861707</td>\n",
       "      <td>9541.640708</td>\n",
       "      <td>36.707771</td>\n",
       "    </tr>\n",
       "    <tr>\n",
       "      <th>std</th>\n",
       "      <td>4.074388e+03</td>\n",
       "      <td>57.802859</td>\n",
       "      <td>13980.021579</td>\n",
       "      <td>81.705055</td>\n",
       "    </tr>\n",
       "    <tr>\n",
       "      <th>min</th>\n",
       "      <td>1.312274e+07</td>\n",
       "      <td>-56.000000</td>\n",
       "      <td>0.000000</td>\n",
       "      <td>0.000000</td>\n",
       "    </tr>\n",
       "    <tr>\n",
       "      <th>25%</th>\n",
       "      <td>1.312610e+07</td>\n",
       "      <td>5.000000</td>\n",
       "      <td>1158.250000</td>\n",
       "      <td>4.000000</td>\n",
       "    </tr>\n",
       "    <tr>\n",
       "      <th>50%</th>\n",
       "      <td>1.312971e+07</td>\n",
       "      <td>18.000000</td>\n",
       "      <td>4270.000000</td>\n",
       "      <td>15.000000</td>\n",
       "    </tr>\n",
       "    <tr>\n",
       "      <th>75%</th>\n",
       "      <td>1.313299e+07</td>\n",
       "      <td>39.000000</td>\n",
       "      <td>11789.000000</td>\n",
       "      <td>37.000000</td>\n",
       "    </tr>\n",
       "    <tr>\n",
       "      <th>max</th>\n",
       "      <td>1.313708e+07</td>\n",
       "      <td>465.000000</td>\n",
       "      <td>120924.000000</td>\n",
       "      <td>919.000000</td>\n",
       "    </tr>\n",
       "  </tbody>\n",
       "</table>\n",
       "</div>"
      ],
      "text/plain": [
       "           ThreadID        Scores          Views       Replies\n",
       "count  6.501400e+04  65014.000000   65014.000000  65014.000000\n",
       "mean   1.312969e+07     34.861707    9541.640708     36.707771\n",
       "std    4.074388e+03     57.802859   13980.021579     81.705055\n",
       "min    1.312274e+07    -56.000000       0.000000      0.000000\n",
       "25%    1.312610e+07      5.000000    1158.250000      4.000000\n",
       "50%    1.312971e+07     18.000000    4270.000000     15.000000\n",
       "75%    1.313299e+07     39.000000   11789.000000     37.000000\n",
       "max    1.313708e+07    465.000000  120924.000000    919.000000"
      ]
     },
     "execution_count": 53,
     "metadata": {},
     "output_type": "execute_result"
    }
   ],
   "source": [
    "info_by_time.describe()"
   ]
  },
  {
   "cell_type": "code",
   "execution_count": 54,
   "metadata": {},
   "outputs": [],
   "source": [
    "info_copy = infodf.copy()"
   ]
  },
  {
   "cell_type": "code",
   "execution_count": 55,
   "metadata": {},
   "outputs": [],
   "source": [
    "info_copy['Minute'] = (info_copy.Time/60).astype(int)"
   ]
  },
  {
   "cell_type": "code",
   "execution_count": 56,
   "metadata": {},
   "outputs": [
    {
     "data": {
      "text/html": [
       "<div>\n",
       "<style scoped>\n",
       "    .dataframe tbody tr th:only-of-type {\n",
       "        vertical-align: middle;\n",
       "    }\n",
       "\n",
       "    .dataframe tbody tr th {\n",
       "        vertical-align: top;\n",
       "    }\n",
       "\n",
       "    .dataframe thead th {\n",
       "        text-align: right;\n",
       "    }\n",
       "</style>\n",
       "<table border=\"1\" class=\"dataframe\">\n",
       "  <thead>\n",
       "    <tr style=\"text-align: right;\">\n",
       "      <th></th>\n",
       "      <th>ThreadID</th>\n",
       "      <th>Scores</th>\n",
       "      <th>Views</th>\n",
       "      <th>Replies</th>\n",
       "      <th>Time</th>\n",
       "      <th>Minute</th>\n",
       "    </tr>\n",
       "  </thead>\n",
       "  <tbody>\n",
       "    <tr>\n",
       "      <th>0</th>\n",
       "      <td>13122736</td>\n",
       "      <td>0</td>\n",
       "      <td>320</td>\n",
       "      <td>1</td>\n",
       "      <td>9914</td>\n",
       "      <td>165</td>\n",
       "    </tr>\n",
       "    <tr>\n",
       "      <th>1</th>\n",
       "      <td>13122736</td>\n",
       "      <td>2</td>\n",
       "      <td>937</td>\n",
       "      <td>1</td>\n",
       "      <td>26355</td>\n",
       "      <td>439</td>\n",
       "    </tr>\n",
       "    <tr>\n",
       "      <th>2</th>\n",
       "      <td>13122736</td>\n",
       "      <td>3</td>\n",
       "      <td>943</td>\n",
       "      <td>3</td>\n",
       "      <td>26714</td>\n",
       "      <td>445</td>\n",
       "    </tr>\n",
       "    <tr>\n",
       "      <th>3</th>\n",
       "      <td>13122736</td>\n",
       "      <td>4</td>\n",
       "      <td>1196</td>\n",
       "      <td>3</td>\n",
       "      <td>28094</td>\n",
       "      <td>468</td>\n",
       "    </tr>\n",
       "    <tr>\n",
       "      <th>4</th>\n",
       "      <td>13122736</td>\n",
       "      <td>6</td>\n",
       "      <td>1294</td>\n",
       "      <td>3</td>\n",
       "      <td>28633</td>\n",
       "      <td>477</td>\n",
       "    </tr>\n",
       "  </tbody>\n",
       "</table>\n",
       "</div>"
      ],
      "text/plain": [
       "   ThreadID  Scores  Views  Replies   Time  Minute\n",
       "0  13122736       0    320        1   9914     165\n",
       "1  13122736       2    937        1  26355     439\n",
       "2  13122736       3    943        3  26714     445\n",
       "3  13122736       4   1196        3  28094     468\n",
       "4  13122736       6   1294        3  28633     477"
      ]
     },
     "execution_count": 56,
     "metadata": {},
     "output_type": "execute_result"
    }
   ],
   "source": [
    "info_copy.head()"
   ]
  },
  {
   "cell_type": "code",
   "execution_count": 57,
   "metadata": {},
   "outputs": [],
   "source": [
    "group = info_copy.groupby('Minute')"
   ]
  },
  {
   "cell_type": "code",
   "execution_count": 58,
   "metadata": {},
   "outputs": [],
   "source": [
    "high_views = group['Views'].quantile(0.75)"
   ]
  },
  {
   "cell_type": "code",
   "execution_count": 59,
   "metadata": {},
   "outputs": [
    {
     "data": {
      "text/plain": [
       "Minute\n",
       "0     0.0\n",
       "1     2.0\n",
       "2    14.5\n",
       "3    22.0\n",
       "4    27.0\n",
       "Name: Views, dtype: float64"
      ]
     },
     "execution_count": 59,
     "metadata": {},
     "output_type": "execute_result"
    }
   ],
   "source": [
    "high_views.head()"
   ]
  },
  {
   "cell_type": "code",
   "execution_count": 60,
   "metadata": {},
   "outputs": [
    {
     "data": {
      "text/plain": [
       "<matplotlib.axes._subplots.AxesSubplot at 0x7f9672108908>"
      ]
     },
     "execution_count": 60,
     "metadata": {},
     "output_type": "execute_result"
    },
    {
     "data": {
      "image/png": "[encoded data removed]",
      "text/plain": [
       "<Figure size 432x288 with 1 Axes>"
      ]
     },
     "metadata": {},
     "output_type": "display_data"
    }
   ],
   "source": [
    "high_views[:60].plot(style='.')"
   ]
  },
  {
   "cell_type": "code",
   "execution_count": 61,
   "metadata": {},
   "outputs": [
    {
     "name": "stdout",
     "output_type": "stream",
     "text": [
      "[2.68091005e+02 4.09802591e-02]\n"
     ]
    }
   ],
   "source": [
    "popt, pcov = curve_fit(ep, high_views.index[:44], high_views[:44])\n",
    "print(popt)"
   ]
  },
  {
   "cell_type": "code",
   "execution_count": 62,
   "metadata": {},
   "outputs": [
    {
     "data": {
      "text/plain": [
       "[<matplotlib.lines.Line2D at 0x7f9672131048>]"
      ]
     },
     "execution_count": 62,
     "metadata": {},
     "output_type": "execute_result"
    },
    {
     "data": {
      "image/png": "[encoded data removed]",
      "text/plain": [
       "<Figure size 432x288 with 1 Axes>"
      ]
     },
     "metadata": {},
     "output_type": "display_data"
    }
   ],
   "source": [
    "high_views[:60].plot(style='.')\n",
    "curve = ep(high_views.index[:60], *popt)\n",
    "plt.plot(np.array(high_views.index[:60]), curve)"
   ]
  },
  {
   "cell_type": "code",
   "execution_count": 63,
   "metadata": {},
   "outputs": [
    {
     "data": {
      "text/plain": [
       "Minute\n",
       "0    0.00\n",
       "1    0.00\n",
       "2    0.00\n",
       "3    0.00\n",
       "4    0.75\n",
       "Name: Scores, dtype: float64"
      ]
     },
     "execution_count": 63,
     "metadata": {},
     "output_type": "execute_result"
    }
   ],
   "source": [
    "high_scores = group['Scores'].quantile(0.75)\n",
    "high_scores.head()"
   ]
  },
  {
   "cell_type": "code",
   "execution_count": 64,
   "metadata": {},
   "outputs": [
    {
     "data": {
      "text/plain": [
       "<matplotlib.axes._subplots.AxesSubplot at 0x7f9672131898>"
      ]
     },
     "execution_count": 64,
     "metadata": {},
     "output_type": "execute_result"
    },
    {
     "data": {
      "image/png": "[encoded data removed]",
      "text/plain": [
       "<Figure size 432x288 with 1 Axes>"
      ]
     },
     "metadata": {},
     "output_type": "display_data"
    }
   ],
   "source": [
    "high_scores[:60].plot(style='.')"
   ]
  },
  {
   "cell_type": "code",
   "execution_count": 65,
   "metadata": {},
   "outputs": [
    {
     "name": "stdout",
     "output_type": "stream",
     "text": [
      "[1.88385861e+01 1.18323131e-02]\n"
     ]
    }
   ],
   "source": [
    "popt, pcov = curve_fit(ep, high_scores.index[:37], high_scores[:37])\n",
    "print(popt)"
   ]
  },
  {
   "cell_type": "code",
   "execution_count": 66,
   "metadata": {},
   "outputs": [
    {
     "data": {
      "text/plain": [
       "[<matplotlib.lines.Line2D at 0x7f96720a9e48>]"
      ]
     },
     "execution_count": 66,
     "metadata": {},
     "output_type": "execute_result"
    },
    {
     "data": {
      "image/png": "[encoded data removed]",
      "text/plain": [
       "<Figure size 432x288 with 1 Axes>"
      ]
     },
     "metadata": {},
     "output_type": "display_data"
    }
   ],
   "source": [
    "high_scores[:60].plot(style='.')\n",
    "curve_scores = ep(high_scores.index[:60], *popt)\n",
    "plt.plot(np.array(high_scores.index[:60]), curve_scores)"
   ]
  },
  {
   "cell_type": "code",
   "execution_count": 67,
   "metadata": {},
   "outputs": [
    {
     "data": {
      "text/plain": [
       "array([ 0.        ,  0.224228  ,  0.4511249 ,  0.68072246,  0.91305282,\n",
       "        1.14814852,  1.38604246,  1.62676796,  1.87035872,  2.11684884,\n",
       "        2.36627283,  2.61866561,  2.87406252,  3.13249932,  3.39401218,\n",
       "        3.65863772,  3.926413  ,  4.19737549,  4.47156314,  4.74901433,\n",
       "        5.02976792,  5.31386319,  5.60133994,  5.8922384 ,  6.18659932,\n",
       "        6.48446388,  6.78587381,  7.0908713 ,  7.39949905,  7.71180027,\n",
       "        8.02781868,  8.34759854,  8.6711846 ,  8.99862217,  9.3299571 ,\n",
       "        9.66523577, 10.00450513, 10.34781268, 10.69520647, 11.04673515,\n",
       "       11.40244793, 11.76239462, 12.1266256 , 12.49519188, 12.86814505,\n",
       "       13.24553733, 13.62742156, 14.0138512 , 14.40488035, 14.80056377,\n",
       "       15.20095684, 15.60611563, 16.01609685, 16.43095792, 16.85075691,\n",
       "       17.27555259, 17.70540445, 18.14037265, 18.58051811, 19.02590243])"
      ]
     },
     "execution_count": 67,
     "metadata": {},
     "output_type": "execute_result"
    }
   ],
   "source": [
    "curve_scores"
   ]
  },
  {
   "cell_type": "code",
   "execution_count": 68,
   "metadata": {},
   "outputs": [
    {
     "data": {
      "text/plain": [
       "<matplotlib.axes._subplots.AxesSubplot at 0x7f966dcaa748>"
      ]
     },
     "execution_count": 68,
     "metadata": {},
     "output_type": "execute_result"
    },
    {
     "data": {
      "image/png": "[encoded data removed]",
      "text/plain": [
       "<Figure size 432x288 with 1 Axes>"
      ]
     },
     "metadata": {},
     "output_type": "display_data"
    }
   ],
   "source": [
    "high_replies = group['Replies'].quantile(0.75)\n",
    "high_replies.head()\n",
    "high_replies[:60].plot(style='.')"
   ]
  },
  {
   "cell_type": "code",
   "execution_count": 69,
   "metadata": {},
   "outputs": [
    {
     "name": "stdout",
     "output_type": "stream",
     "text": [
      "[3.04563225e+01 6.80113477e-03]\n"
     ]
    }
   ],
   "source": [
    "popt, pcov = curve_fit(ep, high_replies.index[:37], high_replies[:37])\n",
    "print(popt)"
   ]
  },
  {
   "cell_type": "code",
   "execution_count": 70,
   "metadata": {},
   "outputs": [
    {
     "data": {
      "text/plain": [
       "[<matplotlib.lines.Line2D at 0x7f96720b36a0>]"
      ]
     },
     "execution_count": 70,
     "metadata": {},
     "output_type": "execute_result"
    },
    {
     "data": {
      "image/png": "[encoded data removed]",
      "text/plain": [
       "<Figure size 432x288 with 1 Axes>"
      ]
     },
     "metadata": {},
     "output_type": "display_data"
    }
   ],
   "source": [
    "high_replies[:60].plot(style='.')\n",
    "curve_replies = ep(high_replies.index[:60], *popt)\n",
    "plt.plot(np.array(high_replies.index[:60]), curve_replies)"
   ]
  },
  {
   "cell_type": "code",
   "execution_count": 92,
   "metadata": {},
   "outputs": [],
   "source": [
    "def getCurve(kind, limit, data, percentile):\n",
    "    def ep(x, a, b):\n",
    "        return a * (np.exp(x * b) - 1)\n",
    "    minutes = data[kind].quantile(percentile)\n",
    "    popt, pcov = curve_fit(ep, minutes.index[:limit], minutes[:limit])\n",
    "    minutes[:60].plot(style='.')\n",
    "    curve = ep(minutes.index[:60], *popt)\n",
    "    \n",
    "    \n",
    "    textstr = r'$y = %.2fe^{%.2f x}$' % (popt[0], popt[1]*60)\n",
    "    props = dict(boxstyle='round', facecolor='wheat', alpha=0.5)\n",
    "    plt.text(0.05, 0.95, textstr, verticalalignment='top', bbox=props, transform=plt.gca().transAxes)\n",
    "    \n",
    "    plt.plot(minutes.index[:60], curve)\n",
    "    return popt"
   ]
  },
  {
   "cell_type": "code",
   "execution_count": 93,
   "metadata": {},
   "outputs": [
    {
     "data": {
      "text/plain": [
       "array([3.04563225e+01, 6.80113477e-03])"
      ]
     },
     "execution_count": 93,
     "metadata": {},
     "output_type": "execute_result"
    },
    {
     "data": {
      "image/png": "[encoded data removed]",
      "text/plain": [
       "<Figure size 432x288 with 1 Axes>"
      ]
     },
     "metadata": {},
     "output_type": "display_data"
    }
   ],
   "source": [
    "getCurve('Replies', 37, group, .75)"
   ]
  },
  {
   "cell_type": "code",
   "execution_count": 73,
   "metadata": {},
   "outputs": [
    {
     "data": {
      "image/png": "[encoded data removed]",
      "text/plain": [
       "<Figure size 432x288 with 1 Axes>"
      ]
     },
     "metadata": {},
     "output_type": "display_data"
    }
   ],
   "source": [
    "eppav = getCurve('Views', 44, group, .75)"
   ]
  }
 ],
 "metadata": {
  "kernelspec": {
   "display_name": "Python 3",
   "language": "python",
   "name": "python3"
  },
  "language_info": {
   "codemirror_mode": {
    "name": "ipython",
    "version": 3
   },
   "file_extension": ".py",
   "mimetype": "text/x-python",
   "name": "python",
   "nbconvert_exporter": "python",
   "pygments_lexer": "ipython3",
   "version": "3.6.5"
  }
 },
 "nbformat": 4,
 "nbformat_minor": 2
}
